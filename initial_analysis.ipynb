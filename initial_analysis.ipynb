{
 "cells": [
  {
   "cell_type": "code",
   "execution_count": null,
   "metadata": {},
   "outputs": [],
   "source": [
    "# Importing libraries\n",
    "import pandas as pd\n",
    "from preprocessing_utils import prepare_dataset\n",
    "import numpy as np\n",
    "from IPython.display import display\n",
    "import torch\n",
    "import torch.nn as nn\n",
    "import torch.optim as optim\n",
    "from torch.utils.data import Dataset, DataLoader\n",
    "from torchvision import transforms\n",
    "from PIL import Image\n",
    "import pandas as pd\n",
    "from dataset import CheXpertDataset\n",
    "import matplotlib.pyplot as plt\n",
    "import numpy as np\n",
    "import torchvision.models as models\n",
    "import torch.nn as nn\n",
    "from training_utils import train_model, upload_pretrained, upload_pretrained_vit\n",
    "from torchsummary import summary\n",
    "import torchvision.models as models\n",
    "from tqdm.notebook import tqdm\n",
    "import pickle"
   ]
  },
  {
   "cell_type": "code",
   "execution_count": 2,
   "metadata": {},
   "outputs": [
    {
     "name": "stderr",
     "output_type": "stream",
     "text": [
      "(Deprecated) Installing extensions with the jupyter labextension install command is now deprecated and will be removed in a future major version of JupyterLab.\n",
      "\n",
      "Users should manage prebuilt extensions with package managers like pip and conda, and extension authors are encouraged to distribute their extensions as prebuilt packages \n",
      "C:\\Users\\bar24\\anaconda3\\Lib\\site-packages\\jupyterlab\\debuglog.py:54: UserWarning: An error occurred.\n",
      "  warnings.warn(\"An error occurred.\")\n",
      "C:\\Users\\bar24\\anaconda3\\Lib\\site-packages\\jupyterlab\\debuglog.py:55: UserWarning: ValueError: Please install Node.js and npm before continuing installation. You may be able to install Node.js from your package manager, from conda, or directly from the Node.js website (https://nodejs.org).\n",
      "  warnings.warn(msg[-1].strip())\n",
      "C:\\Users\\bar24\\anaconda3\\Lib\\site-packages\\jupyterlab\\debuglog.py:56: UserWarning: See the log file for details: C:\\Users\\bar24\\AppData\\Local\\Temp\\jupyterlab-debug-gic2v8tw.log\n",
      "  warnings.warn(f\"See the log file for details: {log_path!s}\")\n"
     ]
    }
   ],
   "source": [
    "# Enable the widgets extension for JupyterLab\n",
    "!jupyter labextension install @jupyter-widgets/jupyterlab-manager"
   ]
  },
  {
   "cell_type": "markdown",
   "metadata": {},
   "source": [
    "#### Constructing training dataset"
   ]
  },
  {
   "cell_type": "code",
   "execution_count": 3,
   "metadata": {},
   "outputs": [],
   "source": [
    "# Import the train dataset\n",
    "train_df = pd.read_csv('CheXpert-v1.0-small/train.csv')\n",
    "\n",
    "# Define the class names for the medical conditions\n",
    "class_names = ['Atelectasis', 'Cardiomegaly', 'Consolidation', 'Edema', 'Pleural Effusion']\n",
    "\n",
    "# Define the policies for dataset preparation\n",
    "policies = ['ones', 'zeroes', 'mixed']\n",
    "\n",
    "# Prepare the dataset using the last policy in the list and the defined class names\n",
    "image_paths, label_matrix = prepare_dataset(train_df, policies[-1], class_names)\n",
    "\n",
    "# Create a DataFrame for the image paths\n",
    "image_paths_df = pd.DataFrame({'path': image_paths})\n",
    "\n",
    "# Create a DataFrame for the labels with the class names as columns\n",
    "labels_df = pd.DataFrame(label_matrix, columns=class_names)\n",
    "\n",
    "# Combine the image paths DataFrame and the labels DataFrame\n",
    "train_df = pd.concat([image_paths_df, labels_df], axis=1)"
   ]
  },
  {
   "cell_type": "code",
   "execution_count": 4,
   "metadata": {},
   "outputs": [
    {
     "data": {
      "text/html": [
       "<div>\n",
       "<style scoped>\n",
       "    .dataframe tbody tr th:only-of-type {\n",
       "        vertical-align: middle;\n",
       "    }\n",
       "\n",
       "    .dataframe tbody tr th {\n",
       "        vertical-align: top;\n",
       "    }\n",
       "\n",
       "    .dataframe thead th {\n",
       "        text-align: right;\n",
       "    }\n",
       "</style>\n",
       "<table border=\"1\" class=\"dataframe\">\n",
       "  <thead>\n",
       "    <tr style=\"text-align: right;\">\n",
       "      <th></th>\n",
       "      <th>path</th>\n",
       "      <th>Atelectasis</th>\n",
       "      <th>Cardiomegaly</th>\n",
       "      <th>Consolidation</th>\n",
       "      <th>Edema</th>\n",
       "      <th>Pleural Effusion</th>\n",
       "    </tr>\n",
       "  </thead>\n",
       "  <tbody>\n",
       "    <tr>\n",
       "      <th>0</th>\n",
       "      <td>CheXpert-v1.0-small/train/patient14619/study6/...</td>\n",
       "      <td>0</td>\n",
       "      <td>0</td>\n",
       "      <td>0</td>\n",
       "      <td>0</td>\n",
       "      <td>1</td>\n",
       "    </tr>\n",
       "    <tr>\n",
       "      <th>1</th>\n",
       "      <td>CheXpert-v1.0-small/train/patient14869/study2/...</td>\n",
       "      <td>0</td>\n",
       "      <td>0</td>\n",
       "      <td>0</td>\n",
       "      <td>1</td>\n",
       "      <td>0</td>\n",
       "    </tr>\n",
       "    <tr>\n",
       "      <th>2</th>\n",
       "      <td>CheXpert-v1.0-small/train/patient40881/study1/...</td>\n",
       "      <td>1</td>\n",
       "      <td>0</td>\n",
       "      <td>0</td>\n",
       "      <td>0</td>\n",
       "      <td>0</td>\n",
       "    </tr>\n",
       "    <tr>\n",
       "      <th>3</th>\n",
       "      <td>CheXpert-v1.0-small/train/patient24862/study3/...</td>\n",
       "      <td>0</td>\n",
       "      <td>0</td>\n",
       "      <td>0</td>\n",
       "      <td>0</td>\n",
       "      <td>1</td>\n",
       "    </tr>\n",
       "    <tr>\n",
       "      <th>4</th>\n",
       "      <td>CheXpert-v1.0-small/train/patient35268/study4/...</td>\n",
       "      <td>0</td>\n",
       "      <td>1</td>\n",
       "      <td>0</td>\n",
       "      <td>1</td>\n",
       "      <td>0</td>\n",
       "    </tr>\n",
       "  </tbody>\n",
       "</table>\n",
       "</div>"
      ],
      "text/plain": [
       "                                                path  Atelectasis  \\\n",
       "0  CheXpert-v1.0-small/train/patient14619/study6/...            0   \n",
       "1  CheXpert-v1.0-small/train/patient14869/study2/...            0   \n",
       "2  CheXpert-v1.0-small/train/patient40881/study1/...            1   \n",
       "3  CheXpert-v1.0-small/train/patient24862/study3/...            0   \n",
       "4  CheXpert-v1.0-small/train/patient35268/study4/...            0   \n",
       "\n",
       "   Cardiomegaly  Consolidation  Edema  Pleural Effusion  \n",
       "0             0              0      0                 1  \n",
       "1             0              0      1                 0  \n",
       "2             0              0      0                 0  \n",
       "3             0              0      0                 1  \n",
       "4             1              0      1                 0  "
      ]
     },
     "metadata": {},
     "output_type": "display_data"
    },
    {
     "name": "stdout",
     "output_type": "stream",
     "text": [
      "Number of rows and columns in the train DataFrame: (191027, 6)\n",
      "Column names and data types:\n",
      "path                object\n",
      "Atelectasis          int32\n",
      "Cardiomegaly         int32\n",
      "Consolidation        int32\n",
      "Edema                int32\n",
      "Pleural Effusion     int32\n",
      "dtype: object\n"
     ]
    }
   ],
   "source": [
    "# Print some information about the train DataFrame\n",
    "# Set pandas display options to show all columns\n",
    "pd.set_option('display.max_columns', None)\n",
    "display(train_df.head())\n",
    "print(\"Number of rows and columns in the train DataFrame:\", train_df.shape)\n",
    "# Print the column names and their data types\n",
    "print(\"Column names and data types:\")\n",
    "print(train_df.dtypes)"
   ]
  },
  {
   "cell_type": "markdown",
   "metadata": {},
   "source": [
    "#### Constructing validation dataset"
   ]
  },
  {
   "cell_type": "code",
   "execution_count": 5,
   "metadata": {},
   "outputs": [],
   "source": [
    "# Import the validation dataset\n",
    "valid_df = pd.read_csv('CheXpert-v1.0-small/valid.csv')\n",
    "\n",
    "# Define the class names for the medical conditions\n",
    "class_names = ['Atelectasis', 'Cardiomegaly', 'Consolidation', 'Edema', 'Pleural Effusion']\n",
    "\n",
    "# Define the policies for dataset preparation\n",
    "policies = ['ones', 'zeroes', 'mixed']\n",
    "\n",
    "# Prepare the validation dataset using the last policy in the list and the defined class names\n",
    "valid_image_paths, valid_label_matrix = prepare_dataset(valid_df, policies[-1], class_names)\n",
    "\n",
    "# Create a DataFrame for the validation image paths\n",
    "valid_image_paths_df = pd.DataFrame({'path': valid_image_paths})\n",
    "\n",
    "# Create a DataFrame for the validation labels with the class names as columns\n",
    "valid_labels_df = pd.DataFrame(valid_label_matrix, columns=class_names)\n",
    "\n",
    "# Combine the validation image paths DataFrame and the validation labels DataFrame\n",
    "valid_df = pd.concat([valid_image_paths_df, valid_labels_df], axis=1)"
   ]
  },
  {
   "cell_type": "code",
   "execution_count": 6,
   "metadata": {},
   "outputs": [
    {
     "data": {
      "text/html": [
       "<div>\n",
       "<style scoped>\n",
       "    .dataframe tbody tr th:only-of-type {\n",
       "        vertical-align: middle;\n",
       "    }\n",
       "\n",
       "    .dataframe tbody tr th {\n",
       "        vertical-align: top;\n",
       "    }\n",
       "\n",
       "    .dataframe thead th {\n",
       "        text-align: right;\n",
       "    }\n",
       "</style>\n",
       "<table border=\"1\" class=\"dataframe\">\n",
       "  <thead>\n",
       "    <tr style=\"text-align: right;\">\n",
       "      <th></th>\n",
       "      <th>path</th>\n",
       "      <th>Atelectasis</th>\n",
       "      <th>Cardiomegaly</th>\n",
       "      <th>Consolidation</th>\n",
       "      <th>Edema</th>\n",
       "      <th>Pleural Effusion</th>\n",
       "    </tr>\n",
       "  </thead>\n",
       "  <tbody>\n",
       "    <tr>\n",
       "      <th>0</th>\n",
       "      <td>CheXpert-v1.0-small/valid/patient64735/study1/...</td>\n",
       "      <td>1</td>\n",
       "      <td>0</td>\n",
       "      <td>0</td>\n",
       "      <td>0</td>\n",
       "      <td>0</td>\n",
       "    </tr>\n",
       "    <tr>\n",
       "      <th>1</th>\n",
       "      <td>CheXpert-v1.0-small/valid/patient64634/study1/...</td>\n",
       "      <td>0</td>\n",
       "      <td>0</td>\n",
       "      <td>0</td>\n",
       "      <td>0</td>\n",
       "      <td>0</td>\n",
       "    </tr>\n",
       "    <tr>\n",
       "      <th>2</th>\n",
       "      <td>CheXpert-v1.0-small/valid/patient64712/study1/...</td>\n",
       "      <td>0</td>\n",
       "      <td>1</td>\n",
       "      <td>0</td>\n",
       "      <td>1</td>\n",
       "      <td>0</td>\n",
       "    </tr>\n",
       "    <tr>\n",
       "      <th>3</th>\n",
       "      <td>CheXpert-v1.0-small/valid/patient64662/study1/...</td>\n",
       "      <td>0</td>\n",
       "      <td>0</td>\n",
       "      <td>0</td>\n",
       "      <td>0</td>\n",
       "      <td>0</td>\n",
       "    </tr>\n",
       "    <tr>\n",
       "      <th>4</th>\n",
       "      <td>CheXpert-v1.0-small/valid/patient64578/study1/...</td>\n",
       "      <td>0</td>\n",
       "      <td>0</td>\n",
       "      <td>0</td>\n",
       "      <td>0</td>\n",
       "      <td>0</td>\n",
       "    </tr>\n",
       "  </tbody>\n",
       "</table>\n",
       "</div>"
      ],
      "text/plain": [
       "                                                path  Atelectasis  \\\n",
       "0  CheXpert-v1.0-small/valid/patient64735/study1/...            1   \n",
       "1  CheXpert-v1.0-small/valid/patient64634/study1/...            0   \n",
       "2  CheXpert-v1.0-small/valid/patient64712/study1/...            0   \n",
       "3  CheXpert-v1.0-small/valid/patient64662/study1/...            0   \n",
       "4  CheXpert-v1.0-small/valid/patient64578/study1/...            0   \n",
       "\n",
       "   Cardiomegaly  Consolidation  Edema  Pleural Effusion  \n",
       "0             0              0      0                 0  \n",
       "1             0              0      0                 0  \n",
       "2             1              0      1                 0  \n",
       "3             0              0      0                 0  \n",
       "4             0              0      0                 0  "
      ]
     },
     "metadata": {},
     "output_type": "display_data"
    },
    {
     "name": "stdout",
     "output_type": "stream",
     "text": [
      "Number of rows and columns in the validation DataFrame: (202, 6)\n",
      "Column names and data types:\n",
      "path                object\n",
      "Atelectasis          int32\n",
      "Cardiomegaly         int32\n",
      "Consolidation        int32\n",
      "Edema                int32\n",
      "Pleural Effusion     int32\n",
      "dtype: object\n"
     ]
    }
   ],
   "source": [
    "# Print some information about the train DataFrame\n",
    "# Set pandas display options to show all columns\n",
    "display(valid_df.head())\n",
    "print(\"Number of rows and columns in the validation DataFrame:\", valid_df.shape)\n",
    "# Print the column names and their data types\n",
    "print(\"Column names and data types:\")\n",
    "print(valid_df.dtypes)"
   ]
  },
  {
   "cell_type": "markdown",
   "metadata": {},
   "source": [
    "#### Dataset formation according to torch (using dataloaders)"
   ]
  },
  {
   "cell_type": "code",
   "execution_count": 7,
   "metadata": {},
   "outputs": [],
   "source": [
    "# Define the transformation pipeline for the images\n",
    "transform = transforms.Compose([\n",
    "    transforms.Resize((224, 224)),  # Resize images to 224x224 pixels\n",
    "    transforms.ToTensor(),          # Convert images to PyTorch tensors\n",
    "    transforms.Normalize(mean=[0.5], std=[0.5])  # Normalize grayscale images\n",
    "])\n",
    "\n",
    "# Define the class names for the medical conditions\n",
    "class_names = ['Atelectasis', 'Cardiomegaly', 'Consolidation', 'Edema', 'Pleural Effusion']\n",
    "\n",
    "# Create the training dataset with the defined transformations\n",
    "train_dataset = CheXpertDataset(train_df, class_names, transform=transform)\n",
    "\n",
    "# Create the validation dataset with the defined transformations\n",
    "valid_dataset = CheXpertDataset(valid_df, class_names, transform=transform)\n",
    "\n",
    "# Create DataLoader for the training dataset\n",
    "train_loader = DataLoader(train_dataset, batch_size=32, shuffle=True)\n",
    "\n",
    "# Create DataLoader for the validation dataset\n",
    "valid_loader = DataLoader(valid_dataset, batch_size=16, shuffle=False)\n",
    "\n",
    "# Verify data loading by fetching a batch of images and labels from the training DataLoader\n",
    "images, labels = next(iter(train_loader))"
   ]
  },
  {
   "cell_type": "markdown",
   "metadata": {},
   "source": [
    "#### Visualising example"
   ]
  },
  {
   "cell_type": "code",
   "execution_count": 8,
   "metadata": {},
   "outputs": [],
   "source": [
    "# Fetch a batch of images and labels from the validation DataLoader\n",
    "# test_X contains the images and test_Y contains the\n",
    "# corresponding labels from the validation set\n",
    "test_X, test_Y = next(iter(valid_loader))"
   ]
  },
  {
   "cell_type": "code",
   "execution_count": 9,
   "metadata": {},
   "outputs": [
    {
     "name": "stdout",
     "output_type": "stream",
     "text": [
      "Original shape: torch.Size([3, 224, 224]), New shape: (224, 224, 3)\n",
      "Example image:\n"
     ]
    },
    {
     "data": {
      "image/png": "[encoded data removed]",
      "text/plain": [
       "<Figure size 640x480 with 1 Axes>"
      ]
     },
     "metadata": {},
     "output_type": "display_data"
    }
   ],
   "source": [
    "# Select the first image in the batch\n",
    "image = test_X[0]\n",
    "original_shape = image.shape\n",
    "image = image.permute(1, 2, 0).numpy()  # Change shape to (224, 224, 3)\n",
    "new_shape = image.shape\n",
    "print(f\"Original shape: {original_shape}, New shape: {new_shape}\")\n",
    "# Check the shape of the image to ensure it is (224, 224, 3)\n",
    "assert new_shape == (224, 224, 3), f\"Expected shape (224, 224, 3), but got {image.shape}\"\n",
    "\n",
    "# Denormalize the image for visualization\n",
    "image = (image * 0.5) + 0.5\n",
    "\n",
    "# Plot the image\n",
    "print(\"Example image:\")\n",
    "plt.imshow(image)\n",
    "plt.axis('off')  # Hide axes\n",
    "plt.show()"
   ]
  },
  {
   "cell_type": "markdown",
   "metadata": {},
   "source": [
    "#### Here we can extract different pre-trained models (in the given example, Resnet18 and vision transformer)."
   ]
  },
  {
   "cell_type": "code",
   "execution_count": 10,
   "metadata": {},
   "outputs": [
    {
     "name": "stderr",
     "output_type": "stream",
     "text": [
      "c:\\Users\\bar24\\anaconda3\\envs\\ExplainableAI\\Lib\\site-packages\\torchvision\\models\\_utils.py:208: UserWarning: The parameter 'pretrained' is deprecated since 0.13 and may be removed in the future, please use 'weights' instead.\n",
      "  warnings.warn(\n",
      "c:\\Users\\bar24\\anaconda3\\envs\\ExplainableAI\\Lib\\site-packages\\torchvision\\models\\_utils.py:223: UserWarning: Arguments other than a weight enum or `None` for 'weights' are deprecated since 0.13 and may be removed in the future. The current behavior is equivalent to passing `weights=ResNet18_Weights.IMAGENET1K_V1`. You can also use `weights=ResNet18_Weights.DEFAULT` to get the most up-to-date weights.\n",
      "  warnings.warn(msg)\n"
     ]
    }
   ],
   "source": [
    "# Load a pre-trained ResNet-18 model, add custom layers, and freeze certain layers\n",
    "# \n",
    "# Parameters:\n",
    "# - pretrained: Use a pre-trained version of ResNet-18\n",
    "# - add_layers: Add custom layers to the model\n",
    "# - n_labels: Number of output labels (classes)\n",
    "# - freeze_layers: Freeze the layers of the pre-trained model to prevent them from being updated during training\n",
    "model_resnet = upload_pretrained(\n",
    "    models.resnet18(pretrained=True),  # Load a pre-trained ResNet-18 model\n",
    "    add_layers=True,                   # Add custom layers to the model\n",
    "    n_labels=5,                        # Set the number of output labels (classes) to 5\n",
    "    freeze_layers=True                 # Freeze the layers of the pre-trained model\n",
    ")"
   ]
  },
  {
   "cell_type": "markdown",
   "metadata": {},
   "source": [
    "##### Moreover, we can see summary of a model"
   ]
  },
  {
   "cell_type": "code",
   "execution_count": 11,
   "metadata": {},
   "outputs": [
    {
     "name": "stdout",
     "output_type": "stream",
     "text": [
      "----------------------------------------------------------------\n",
      "        Layer (type)               Output Shape         Param #\n",
      "================================================================\n",
      "            Conv2d-1         [-1, 64, 112, 112]           9,408\n",
      "       BatchNorm2d-2         [-1, 64, 112, 112]             128\n",
      "              ReLU-3         [-1, 64, 112, 112]               0\n",
      "         MaxPool2d-4           [-1, 64, 56, 56]               0\n",
      "            Conv2d-5           [-1, 64, 56, 56]          36,864\n",
      "       BatchNorm2d-6           [-1, 64, 56, 56]             128\n",
      "              ReLU-7           [-1, 64, 56, 56]               0\n",
      "            Conv2d-8           [-1, 64, 56, 56]          36,864\n",
      "       BatchNorm2d-9           [-1, 64, 56, 56]             128\n",
      "             ReLU-10           [-1, 64, 56, 56]               0\n",
      "       BasicBlock-11           [-1, 64, 56, 56]               0\n",
      "           Conv2d-12           [-1, 64, 56, 56]          36,864\n",
      "      BatchNorm2d-13           [-1, 64, 56, 56]             128\n",
      "             ReLU-14           [-1, 64, 56, 56]               0\n",
      "           Conv2d-15           [-1, 64, 56, 56]          36,864\n",
      "      BatchNorm2d-16           [-1, 64, 56, 56]             128\n",
      "             ReLU-17           [-1, 64, 56, 56]               0\n",
      "       BasicBlock-18           [-1, 64, 56, 56]               0\n",
      "           Conv2d-19          [-1, 128, 28, 28]          73,728\n",
      "      BatchNorm2d-20          [-1, 128, 28, 28]             256\n",
      "             ReLU-21          [-1, 128, 28, 28]               0\n",
      "           Conv2d-22          [-1, 128, 28, 28]         147,456\n",
      "      BatchNorm2d-23          [-1, 128, 28, 28]             256\n",
      "           Conv2d-24          [-1, 128, 28, 28]           8,192\n",
      "      BatchNorm2d-25          [-1, 128, 28, 28]             256\n",
      "             ReLU-26          [-1, 128, 28, 28]               0\n",
      "       BasicBlock-27          [-1, 128, 28, 28]               0\n",
      "           Conv2d-28          [-1, 128, 28, 28]         147,456\n",
      "      BatchNorm2d-29          [-1, 128, 28, 28]             256\n",
      "             ReLU-30          [-1, 128, 28, 28]               0\n",
      "           Conv2d-31          [-1, 128, 28, 28]         147,456\n",
      "      BatchNorm2d-32          [-1, 128, 28, 28]             256\n",
      "             ReLU-33          [-1, 128, 28, 28]               0\n",
      "       BasicBlock-34          [-1, 128, 28, 28]               0\n",
      "           Conv2d-35          [-1, 256, 14, 14]         294,912\n",
      "      BatchNorm2d-36          [-1, 256, 14, 14]             512\n",
      "             ReLU-37          [-1, 256, 14, 14]               0\n",
      "           Conv2d-38          [-1, 256, 14, 14]         589,824\n",
      "      BatchNorm2d-39          [-1, 256, 14, 14]             512\n",
      "           Conv2d-40          [-1, 256, 14, 14]          32,768\n",
      "      BatchNorm2d-41          [-1, 256, 14, 14]             512\n",
      "             ReLU-42          [-1, 256, 14, 14]               0\n",
      "       BasicBlock-43          [-1, 256, 14, 14]               0\n",
      "           Conv2d-44          [-1, 256, 14, 14]         589,824\n",
      "      BatchNorm2d-45          [-1, 256, 14, 14]             512\n",
      "             ReLU-46          [-1, 256, 14, 14]               0\n",
      "           Conv2d-47          [-1, 256, 14, 14]         589,824\n",
      "      BatchNorm2d-48          [-1, 256, 14, 14]             512\n",
      "             ReLU-49          [-1, 256, 14, 14]               0\n",
      "       BasicBlock-50          [-1, 256, 14, 14]               0\n",
      "           Conv2d-51            [-1, 512, 7, 7]       1,179,648\n",
      "      BatchNorm2d-52            [-1, 512, 7, 7]           1,024\n",
      "             ReLU-53            [-1, 512, 7, 7]               0\n",
      "           Conv2d-54            [-1, 512, 7, 7]       2,359,296\n",
      "      BatchNorm2d-55            [-1, 512, 7, 7]           1,024\n",
      "           Conv2d-56            [-1, 512, 7, 7]         131,072\n",
      "      BatchNorm2d-57            [-1, 512, 7, 7]           1,024\n",
      "             ReLU-58            [-1, 512, 7, 7]               0\n",
      "       BasicBlock-59            [-1, 512, 7, 7]               0\n",
      "           Conv2d-60            [-1, 512, 7, 7]       2,359,296\n",
      "      BatchNorm2d-61            [-1, 512, 7, 7]           1,024\n",
      "             ReLU-62            [-1, 512, 7, 7]               0\n",
      "           Conv2d-63            [-1, 512, 7, 7]       2,359,296\n",
      "      BatchNorm2d-64            [-1, 512, 7, 7]           1,024\n",
      "             ReLU-65            [-1, 512, 7, 7]               0\n",
      "       BasicBlock-66            [-1, 512, 7, 7]               0\n",
      "AdaptiveAvgPool2d-67            [-1, 512, 1, 1]               0\n",
      "           Linear-68                   [-1, 16]           8,208\n",
      "             ReLU-69                   [-1, 16]               0\n",
      "          Dropout-70                   [-1, 16]               0\n",
      "           Linear-71                    [-1, 5]              85\n",
      "================================================================\n",
      "Total params: 11,184,805\n",
      "Trainable params: 8,293\n",
      "Non-trainable params: 11,176,512\n",
      "----------------------------------------------------------------\n",
      "Input size (MB): 0.57\n",
      "Forward/backward pass size (MB): 62.79\n",
      "Params size (MB): 42.67\n",
      "Estimated Total Size (MB): 106.03\n",
      "----------------------------------------------------------------\n"
     ]
    }
   ],
   "source": [
    "# Get a model summary for ViT with input size (1, 3, 384, 384)\n",
    "summary(model_resnet, input_size=(3, 224, 224))"
   ]
  },
  {
   "cell_type": "markdown",
   "metadata": {},
   "source": [
    "#### Here is how we train the model"
   ]
  },
  {
   "cell_type": "code",
   "execution_count": null,
   "metadata": {},
   "outputs": [
    {
     "data": {
      "application/vnd.jupyter.widget-view+json": {
       "model_id": "5e5b0bfe955649e4ba69ddcdfdcec8d0",
       "version_major": 2,
       "version_minor": 0
      },
      "text/plain": [
       "Epoch 1/20:   0%|          | 0/5970 [00:00<?, ?batch/s]"
      ]
     },
     "metadata": {},
     "output_type": "display_data"
    }
   ],
   "source": [
    "# Define the loss function\n",
    "# BCEWithLogitsLoss combines a Sigmoid layer and the BCELoss in one single class\n",
    "criterion = nn.BCEWithLogitsLoss()\n",
    "\n",
    "# Define the optimizer\n",
    "# Adam optimizer with learning rate of 0.001\n",
    "optimizer_resnet = optim.Adam(model_resnet.parameters(), lr=0.001)\n",
    "\n",
    "# Train the model\n",
    "# Parameters:\n",
    "# - model: The model to be trained (ResNet-18 in this case)\n",
    "# - train_loader: DataLoader for the training dataset\n",
    "# - test_loader: DataLoader for the validation dataset\n",
    "# - criterion: The loss function\n",
    "# - optimizer: The optimizer\n",
    "# - num_epochs: Number of epochs to train the model\n",
    "# - device: Device to train the model on ('cpu' or 'cuda')\n",
    "# - save_filename: Filename to save the trained model\n",
    "train_losses_resnet, train_accuracies_resnet, test_losses_resnet, test_accuracies_resnet = train_model(\n",
    "    model=model_resnet,\n",
    "    train_loader=train_loader,\n",
    "    test_loader=valid_loader,\n",
    "    criterion=criterion,\n",
    "    optimizer=optimizer_resnet,\n",
    "    num_epochs=20,\n",
    "    device='cpu',\n",
    "    save_filename='model_resnet.pth'\n",
    ")"
   ]
  },
  {
   "cell_type": "markdown",
   "metadata": {},
   "source": [
    "### Pickle the trained model"
   ]
  },
  {
   "cell_type": "code",
   "execution_count": null,
   "metadata": {},
   "outputs": [],
   "source": [
    "# Save the trained model using pickle\n",
    "with open('model_resnet.pkl', 'wb') as f:\n",
    "    pickle.dump(model_resnet, f)\n",
    "\n",
    "print(\"Model saved as model_resnet.pkl\")"
   ]
  },
  {
   "cell_type": "markdown",
   "metadata": {},
   "source": [
    "### Load the trained model"
   ]
  },
  {
   "cell_type": "code",
   "execution_count": null,
   "metadata": {},
   "outputs": [],
   "source": [
    "with open('model_resnet.pkl', 'rb') as f:\n",
    "    loaded_model_resnet = pickle.load(f)\n",
    "\n",
    "print(\"Model loaded from model_resnet.pkl\")"
   ]
  }
 ],
 "metadata": {
  "kernelspec": {
   "display_name": "ExplainableAI",
   "language": "python",
   "name": "python3"
  },
  "language_info": {
   "codemirror_mode": {
    "name": "ipython",
    "version": 3
   },
   "file_extension": ".py",
   "mimetype": "text/x-python",
   "name": "python",
   "nbconvert_exporter": "python",
   "pygments_lexer": "ipython3",
   "version": "3.12.8"
  }
 },
 "nbformat": 4,
 "nbformat_minor": 2
}
