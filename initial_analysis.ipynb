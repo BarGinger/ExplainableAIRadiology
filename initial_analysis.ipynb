{
 "cells": [
  {
   "cell_type": "code",
   "execution_count": 1,
   "metadata": {},
   "outputs": [],
   "source": [
    "# Importing libraries\n",
    "import pandas as pd\n",
    "from preprocessing_utils import prepare_dataset\n",
    "import numpy as np\n",
    "from IPython.display import display\n",
    "import torch\n",
    "import torch.nn as nn\n",
    "import torch.optim as optim\n",
    "from torch.utils.data import Dataset, DataLoader\n",
    "from torchvision import transforms\n",
    "from PIL import Image\n",
    "import pandas as pd\n",
    "from dataset import CheXpertDataset\n",
    "import matplotlib.pyplot as plt\n",
    "import numpy as np\n",
    "import torchvision.models as models\n",
    "import torch.nn as nn\n",
    "from training_utils import train_model, upload_pretrained, upload_pretrained_vit\n",
    "from torchsummary import summary\n",
    "import torchvision.models as models\n",
    "from tqdm.notebook import tqdm\n",
    "import pickle"
   ]
  },
  {
   "cell_type": "code",
   "execution_count": 3,
   "metadata": {},
   "outputs": [
    {
     "name": "stdout",
     "output_type": "stream",
     "text": [
      "usage: jupyter [-h] [--version] [--config-dir] [--data-dir] [--runtime-dir]\n",
      "               [--paths] [--json] [--debug]\n",
      "               [subcommand]\n",
      "\n",
      "Jupyter: Interactive Computing\n",
      "\n",
      "positional arguments:\n",
      "  subcommand     the subcommand to launch\n",
      "\n",
      "options:\n",
      "  -h, --help     show this help message and exit\n",
      "  --version      show the versions of core jupyter packages and exit\n",
      "  --config-dir   show Jupyter config dir\n",
      "  --data-dir     show Jupyter data dir\n",
      "  --runtime-dir  show Jupyter runtime dir\n",
      "  --paths        show all Jupyter paths. Add --json for machine-readable\n",
      "                 format.\n",
      "  --json         output paths as machine-readable json\n",
      "  --debug        output debug information about paths\n",
      "\n",
      "Available subcommands: kernel kernelspec migrate run troubleshoot\n",
      "\n",
      "Jupyter command `jupyter-labextension` not found.\n"
     ]
    }
   ],
   "source": [
    "# Enable the widgets extension for JupyterLab\n",
    "!jupyter labextension install @jupyter-widgets/jupyterlab-manager"
   ]
  },
  {
   "cell_type": "markdown",
   "metadata": {},
   "source": [
    "#### Constructing training dataset"
   ]
  },
  {
   "cell_type": "code",
   "execution_count": 2,
   "metadata": {},
   "outputs": [],
   "source": [
    "# Import the train dataset\n",
    "train_df = pd.read_csv('CheXpert-v1.0-small/train.csv')\n",
    "\n",
    "# Define the class names for the medical conditions\n",
    "class_names = ['Atelectasis', 'Cardiomegaly', 'Consolidation', 'Edema', 'Pleural Effusion']\n",
    "\n",
    "# Define the policies for dataset preparation\n",
    "policies = ['ones', 'zeroes', 'mixed']\n",
    "\n",
    "# Prepare the dataset using the last policy in the list and the defined class names\n",
    "image_paths, label_matrix = prepare_dataset(train_df, policies[-1], class_names)\n",
    "\n",
    "# Create a DataFrame for the image paths\n",
    "image_paths_df = pd.DataFrame({'path': image_paths})\n",
    "\n",
    "# Create a DataFrame for the labels with the class names as columns\n",
    "labels_df = pd.DataFrame(label_matrix, columns=class_names)\n",
    "\n",
    "# Combine the image paths DataFrame and the labels DataFrame\n",
    "train_df = pd.concat([image_paths_df, labels_df], axis=1)"
   ]
  },
  {
   "cell_type": "code",
   "execution_count": 3,
   "metadata": {},
   "outputs": [
    {
     "data": {
      "text/html": [
       "<div>\n",
       "<style scoped>\n",
       "    .dataframe tbody tr th:only-of-type {\n",
       "        vertical-align: middle;\n",
       "    }\n",
       "\n",
       "    .dataframe tbody tr th {\n",
       "        vertical-align: top;\n",
       "    }\n",
       "\n",
       "    .dataframe thead th {\n",
       "        text-align: right;\n",
       "    }\n",
       "</style>\n",
       "<table border=\"1\" class=\"dataframe\">\n",
       "  <thead>\n",
       "    <tr style=\"text-align: right;\">\n",
       "      <th></th>\n",
       "      <th>path</th>\n",
       "      <th>Atelectasis</th>\n",
       "      <th>Cardiomegaly</th>\n",
       "      <th>Consolidation</th>\n",
       "      <th>Edema</th>\n",
       "      <th>Pleural Effusion</th>\n",
       "    </tr>\n",
       "  </thead>\n",
       "  <tbody>\n",
       "    <tr>\n",
       "      <th>0</th>\n",
       "      <td>CheXpert-v1.0-small/train/patient14619/study6/...</td>\n",
       "      <td>0</td>\n",
       "      <td>0</td>\n",
       "      <td>0</td>\n",
       "      <td>0</td>\n",
       "      <td>1</td>\n",
       "    </tr>\n",
       "    <tr>\n",
       "      <th>1</th>\n",
       "      <td>CheXpert-v1.0-small/train/patient14869/study2/...</td>\n",
       "      <td>0</td>\n",
       "      <td>0</td>\n",
       "      <td>0</td>\n",
       "      <td>1</td>\n",
       "      <td>0</td>\n",
       "    </tr>\n",
       "    <tr>\n",
       "      <th>2</th>\n",
       "      <td>CheXpert-v1.0-small/train/patient40881/study1/...</td>\n",
       "      <td>1</td>\n",
       "      <td>0</td>\n",
       "      <td>0</td>\n",
       "      <td>0</td>\n",
       "      <td>0</td>\n",
       "    </tr>\n",
       "    <tr>\n",
       "      <th>3</th>\n",
       "      <td>CheXpert-v1.0-small/train/patient24862/study3/...</td>\n",
       "      <td>0</td>\n",
       "      <td>0</td>\n",
       "      <td>0</td>\n",
       "      <td>0</td>\n",
       "      <td>1</td>\n",
       "    </tr>\n",
       "    <tr>\n",
       "      <th>4</th>\n",
       "      <td>CheXpert-v1.0-small/train/patient35268/study4/...</td>\n",
       "      <td>0</td>\n",
       "      <td>1</td>\n",
       "      <td>0</td>\n",
       "      <td>1</td>\n",
       "      <td>0</td>\n",
       "    </tr>\n",
       "  </tbody>\n",
       "</table>\n",
       "</div>"
      ],
      "text/plain": [
       "                                                path  Atelectasis  \\\n",
       "0  CheXpert-v1.0-small/train/patient14619/study6/...            0   \n",
       "1  CheXpert-v1.0-small/train/patient14869/study2/...            0   \n",
       "2  CheXpert-v1.0-small/train/patient40881/study1/...            1   \n",
       "3  CheXpert-v1.0-small/train/patient24862/study3/...            0   \n",
       "4  CheXpert-v1.0-small/train/patient35268/study4/...            0   \n",
       "\n",
       "   Cardiomegaly  Consolidation  Edema  Pleural Effusion  \n",
       "0             0              0      0                 1  \n",
       "1             0              0      1                 0  \n",
       "2             0              0      0                 0  \n",
       "3             0              0      0                 1  \n",
       "4             1              0      1                 0  "
      ]
     },
     "metadata": {},
     "output_type": "display_data"
    },
    {
     "name": "stdout",
     "output_type": "stream",
     "text": [
      "Number of rows and columns in the train DataFrame: (191027, 6)\n",
      "Column names and data types:\n",
      "path                object\n",
      "Atelectasis          int64\n",
      "Cardiomegaly         int64\n",
      "Consolidation        int64\n",
      "Edema                int64\n",
      "Pleural Effusion     int64\n",
      "dtype: object\n"
     ]
    }
   ],
   "source": [
    "# Print some information about the train DataFrame\n",
    "# Set pandas display options to show all columns\n",
    "pd.set_option('display.max_columns', None)\n",
    "display(train_df.head())\n",
    "print(\"Number of rows and columns in the train DataFrame:\", train_df.shape)\n",
    "# Print the column names and their data types\n",
    "print(\"Column names and data types:\")\n",
    "print(train_df.dtypes)"
   ]
  },
  {
   "cell_type": "markdown",
   "metadata": {},
   "source": [
    "#### Constructing validation dataset"
   ]
  },
  {
   "cell_type": "code",
   "execution_count": 4,
   "metadata": {},
   "outputs": [],
   "source": [
    "# Import the validation dataset\n",
    "valid_df = pd.read_csv('CheXpert-v1.0-small/valid.csv')\n",
    "\n",
    "# Define the class names for the medical conditions\n",
    "class_names = ['Atelectasis', 'Cardiomegaly', 'Consolidation', 'Edema', 'Pleural Effusion']\n",
    "\n",
    "# Define the policies for dataset preparation\n",
    "policies = ['ones', 'zeroes', 'mixed']\n",
    "\n",
    "# Prepare the validation dataset using the last policy in the list and the defined class names\n",
    "valid_image_paths, valid_label_matrix = prepare_dataset(valid_df, policies[-1], class_names)\n",
    "\n",
    "# Create a DataFrame for the validation image paths\n",
    "valid_image_paths_df = pd.DataFrame({'path': valid_image_paths})\n",
    "\n",
    "# Create a DataFrame for the validation labels with the class names as columns\n",
    "valid_labels_df = pd.DataFrame(valid_label_matrix, columns=class_names)\n",
    "\n",
    "# Combine the validation image paths DataFrame and the validation labels DataFrame\n",
    "valid_df = pd.concat([valid_image_paths_df, valid_labels_df], axis=1)"
   ]
  },
  {
   "cell_type": "code",
   "execution_count": 5,
   "metadata": {},
   "outputs": [
    {
     "data": {
      "text/html": [
       "<div>\n",
       "<style scoped>\n",
       "    .dataframe tbody tr th:only-of-type {\n",
       "        vertical-align: middle;\n",
       "    }\n",
       "\n",
       "    .dataframe tbody tr th {\n",
       "        vertical-align: top;\n",
       "    }\n",
       "\n",
       "    .dataframe thead th {\n",
       "        text-align: right;\n",
       "    }\n",
       "</style>\n",
       "<table border=\"1\" class=\"dataframe\">\n",
       "  <thead>\n",
       "    <tr style=\"text-align: right;\">\n",
       "      <th></th>\n",
       "      <th>path</th>\n",
       "      <th>Atelectasis</th>\n",
       "      <th>Cardiomegaly</th>\n",
       "      <th>Consolidation</th>\n",
       "      <th>Edema</th>\n",
       "      <th>Pleural Effusion</th>\n",
       "    </tr>\n",
       "  </thead>\n",
       "  <tbody>\n",
       "    <tr>\n",
       "      <th>0</th>\n",
       "      <td>CheXpert-v1.0-small/valid/patient64735/study1/...</td>\n",
       "      <td>1</td>\n",
       "      <td>0</td>\n",
       "      <td>0</td>\n",
       "      <td>0</td>\n",
       "      <td>0</td>\n",
       "    </tr>\n",
       "    <tr>\n",
       "      <th>1</th>\n",
       "      <td>CheXpert-v1.0-small/valid/patient64634/study1/...</td>\n",
       "      <td>0</td>\n",
       "      <td>0</td>\n",
       "      <td>0</td>\n",
       "      <td>0</td>\n",
       "      <td>0</td>\n",
       "    </tr>\n",
       "    <tr>\n",
       "      <th>2</th>\n",
       "      <td>CheXpert-v1.0-small/valid/patient64712/study1/...</td>\n",
       "      <td>0</td>\n",
       "      <td>1</td>\n",
       "      <td>0</td>\n",
       "      <td>1</td>\n",
       "      <td>0</td>\n",
       "    </tr>\n",
       "    <tr>\n",
       "      <th>3</th>\n",
       "      <td>CheXpert-v1.0-small/valid/patient64662/study1/...</td>\n",
       "      <td>0</td>\n",
       "      <td>0</td>\n",
       "      <td>0</td>\n",
       "      <td>0</td>\n",
       "      <td>0</td>\n",
       "    </tr>\n",
       "    <tr>\n",
       "      <th>4</th>\n",
       "      <td>CheXpert-v1.0-small/valid/patient64578/study1/...</td>\n",
       "      <td>0</td>\n",
       "      <td>0</td>\n",
       "      <td>0</td>\n",
       "      <td>0</td>\n",
       "      <td>0</td>\n",
       "    </tr>\n",
       "  </tbody>\n",
       "</table>\n",
       "</div>"
      ],
      "text/plain": [
       "                                                path  Atelectasis  \\\n",
       "0  CheXpert-v1.0-small/valid/patient64735/study1/...            1   \n",
       "1  CheXpert-v1.0-small/valid/patient64634/study1/...            0   \n",
       "2  CheXpert-v1.0-small/valid/patient64712/study1/...            0   \n",
       "3  CheXpert-v1.0-small/valid/patient64662/study1/...            0   \n",
       "4  CheXpert-v1.0-small/valid/patient64578/study1/...            0   \n",
       "\n",
       "   Cardiomegaly  Consolidation  Edema  Pleural Effusion  \n",
       "0             0              0      0                 0  \n",
       "1             0              0      0                 0  \n",
       "2             1              0      1                 0  \n",
       "3             0              0      0                 0  \n",
       "4             0              0      0                 0  "
      ]
     },
     "metadata": {},
     "output_type": "display_data"
    },
    {
     "name": "stdout",
     "output_type": "stream",
     "text": [
      "Number of rows and columns in the validation DataFrame: (202, 6)\n",
      "Column names and data types:\n",
      "path                object\n",
      "Atelectasis          int64\n",
      "Cardiomegaly         int64\n",
      "Consolidation        int64\n",
      "Edema                int64\n",
      "Pleural Effusion     int64\n",
      "dtype: object\n"
     ]
    }
   ],
   "source": [
    "# Print some information about the train DataFrame\n",
    "# Set pandas display options to show all columns\n",
    "display(valid_df.head())\n",
    "print(\"Number of rows and columns in the validation DataFrame:\", valid_df.shape)\n",
    "# Print the column names and their data types\n",
    "print(\"Column names and data types:\")\n",
    "print(valid_df.dtypes)"
   ]
  },
  {
   "cell_type": "markdown",
   "metadata": {},
   "source": [
    "#### Dataset formation according to torch (using dataloaders)"
   ]
  },
  {
   "cell_type": "code",
   "execution_count": 6,
   "metadata": {},
   "outputs": [],
   "source": [
    "# Define the transformation pipeline for the images\n",
    "transform = transforms.Compose([\n",
    "    transforms.Resize((224, 224)),  # Resize images to 224x224 pixels\n",
    "    transforms.ToTensor(),          # Convert images to PyTorch tensors\n",
    "    transforms.Normalize(mean=[0.5], std=[0.5])  # Normalize grayscale images\n",
    "])\n",
    "\n",
    "# Define the class names for the medical conditions\n",
    "class_names = ['Atelectasis', 'Cardiomegaly', 'Consolidation', 'Edema', 'Pleural Effusion']\n",
    "\n",
    "# Create the training dataset with the defined transformations\n",
    "train_dataset = CheXpertDataset(train_df, class_names, transform=transform)\n",
    "\n",
    "# Create the validation dataset with the defined transformations\n",
    "valid_dataset = CheXpertDataset(valid_df, class_names, transform=transform)\n",
    "\n",
    "# Create DataLoader for the training dataset\n",
    "train_loader = DataLoader(train_dataset, batch_size=32, shuffle=True)\n",
    "\n",
    "# Create DataLoader for the validation dataset\n",
    "valid_loader = DataLoader(valid_dataset, batch_size=16, shuffle=False)\n",
    "\n",
    "# Verify data loading by fetching a batch of images and labels from the training DataLoader\n",
    "images, labels = next(iter(train_loader))"
   ]
  },
  {
   "cell_type": "markdown",
   "metadata": {},
   "source": [
    "#### Visualising example"
   ]
  },
  {
   "cell_type": "code",
   "execution_count": 7,
   "metadata": {},
   "outputs": [],
   "source": [
    "# Fetch a batch of images and labels from the validation DataLoader\n",
    "# test_X contains the images and test_Y contains the\n",
    "# corresponding labels from the validation set\n",
    "test_X, test_Y = next(iter(valid_loader))"
   ]
  },
  {
   "cell_type": "code",
   "execution_count": 8,
   "metadata": {},
   "outputs": [
    {
     "name": "stdout",
     "output_type": "stream",
     "text": [
      "Original shape: torch.Size([3, 224, 224]), New shape: (224, 224, 3)\n",
      "Example image:\n"
     ]
    },
    {
     "data": {
      "image/png": "[encoded data removed]",
      "text/plain": [
       "<Figure size 640x480 with 1 Axes>"
      ]
     },
     "metadata": {},
     "output_type": "display_data"
    }
   ],
   "source": [
    "# Select the first image in the batch\n",
    "image = test_X[0]\n",
    "original_shape = image.shape\n",
    "image = image.permute(1, 2, 0).numpy()  # Change shape to (224, 224, 3)\n",
    "new_shape = image.shape\n",
    "print(f\"Original shape: {original_shape}, New shape: {new_shape}\")\n",
    "# Check the shape of the image to ensure it is (224, 224, 3)\n",
    "assert new_shape == (224, 224, 3), f\"Expected shape (224, 224, 3), but got {image.shape}\"\n",
    "\n",
    "# Denormalize the image for visualization\n",
    "image = (image * 0.5) + 0.5\n",
    "\n",
    "# Plot the image\n",
    "print(\"Example image:\")\n",
    "plt.imshow(image)\n",
    "plt.axis('off')  # Hide axes\n",
    "plt.show()"
   ]
  },
  {
   "cell_type": "markdown",
   "metadata": {},
   "source": [
    "#### Here we can extract different pre-trained models (in the given example, Resnet18 and vision transformer)."
   ]
  },
  {
   "cell_type": "code",
   "execution_count": 9,
   "metadata": {},
   "outputs": [
    {
     "name": "stderr",
     "output_type": "stream",
     "text": [
      "/opt/anaconda3/envs/xai/lib/python3.10/site-packages/torchvision/models/_utils.py:208: UserWarning: The parameter 'pretrained' is deprecated since 0.13 and may be removed in the future, please use 'weights' instead.\n",
      "  warnings.warn(\n",
      "/opt/anaconda3/envs/xai/lib/python3.10/site-packages/torchvision/models/_utils.py:223: UserWarning: Arguments other than a weight enum or `None` for 'weights' are deprecated since 0.13 and may be removed in the future. The current behavior is equivalent to passing `weights=ResNet18_Weights.IMAGENET1K_V1`. You can also use `weights=ResNet18_Weights.DEFAULT` to get the most up-to-date weights.\n",
      "  warnings.warn(msg)\n"
     ]
    }
   ],
   "source": [
    "# Load a pre-trained ResNet-18 model, add custom layers, and freeze certain layers\n",
    "# \n",
    "# Parameters:\n",
    "# - pretrained: Use a pre-trained version of ResNet-18\n",
    "# - add_layers: Add custom layers to the model\n",
    "# - n_labels: Number of output labels (classes)\n",
    "# - freeze_layers: Freeze the layers of the pre-trained model to prevent them from being updated during training\n",
    "model_resnet = upload_pretrained(\n",
    "    models.resnet18(pretrained=True),  # Load a pre-trained ResNet-18 model\n",
    "    add_layers=True,                   # Add custom layers to the model\n",
    "    n_labels=5,                        # Set the number of output labels (classes) to 5\n",
    "    freeze_layers=True                 # Freeze the layers of the pre-trained model\n",
    ")"
   ]
  },
  {
   "cell_type": "markdown",
   "metadata": {},
   "source": [
    "##### Moreover, we can see summary of a model"
   ]
  },
  {
   "cell_type": "code",
   "execution_count": 24,
   "metadata": {},
   "outputs": [
    {
     "name": "stdout",
     "output_type": "stream",
     "text": [
      "----------------------------------------------------------------\n",
      "        Layer (type)               Output Shape         Param #\n",
      "================================================================\n",
      "            Conv2d-1         [-1, 16, 224, 224]             448\n",
      "         MaxPool2d-2         [-1, 16, 112, 112]               0\n",
      "            Conv2d-3         [-1, 32, 112, 112]           4,640\n",
      "         MaxPool2d-4           [-1, 32, 56, 56]               0\n",
      "            Linear-5                  [-1, 128]      12,845,184\n",
      "            Linear-6                    [-1, 5]             645\n",
      "================================================================\n",
      "Total params: 12,850,917\n",
      "Trainable params: 12,850,917\n",
      "Non-trainable params: 0\n",
      "----------------------------------------------------------------\n",
      "Input size (MB): 0.57\n",
      "Forward/backward pass size (MB): 11.49\n",
      "Params size (MB): 49.02\n",
      "Estimated Total Size (MB): 61.08\n",
      "----------------------------------------------------------------\n"
     ]
    }
   ],
   "source": [
    "# Get a model summary for ViT with input size (1, 3, 384, 384)\n",
    "summary(model_resnet, input_size=(3, 224, 224))"
   ]
  },
  {
   "cell_type": "markdown",
   "metadata": {},
   "source": [
    "#### Here is how we train the model"
   ]
  },
  {
   "cell_type": "code",
   "execution_count": null,
   "metadata": {},
   "outputs": [
    {
     "data": {
      "application/vnd.jupyter.widget-view+json": {
       "model_id": "5e5b0bfe955649e4ba69ddcdfdcec8d0",
       "version_major": 2,
       "version_minor": 0
      },
      "text/plain": [
       "Epoch 1/20:   0%|          | 0/5970 [00:00<?, ?batch/s]"
      ]
     },
     "metadata": {},
     "output_type": "display_data"
    }
   ],
   "source": [
    "# Define the loss function\n",
    "# BCEWithLogitsLoss combines a Sigmoid layer and the BCELoss in one single class\n",
    "criterion = nn.BCEWithLogitsLoss()\n",
    "\n",
    "# Define the optimizer\n",
    "# Adam optimizer with learning rate of 0.001\n",
    "optimizer_resnet = optim.Adam(model_resnet.parameters(), lr=0.001)\n",
    "\n",
    "# Train the model\n",
    "# Parameters:\n",
    "# - model: The model to be trained (ResNet-18 in this case)\n",
    "# - train_loader: DataLoader for the training dataset\n",
    "# - test_loader: DataLoader for the validation dataset\n",
    "# - criterion: The loss function\n",
    "# - optimizer: The optimizer\n",
    "# - num_epochs: Number of epochs to train the model\n",
    "# - device: Device to train the model on ('cpu' or 'cuda')\n",
    "# - save_filename: Filename to save the trained model\n",
    "train_losses_resnet, train_accuracies_resnet, test_losses_resnet, test_accuracies_resnet = train_model(\n",
    "    model=model_resnet,\n",
    "    train_loader=train_loader,\n",
    "    test_loader=valid_loader,\n",
    "    criterion=criterion,\n",
    "    optimizer=optimizer_resnet,\n",
    "    num_epochs=20,\n",
    "    device='cpu',\n",
    "    save_filename='model_resnet.pth'\n",
    ")"
   ]
  },
  {
   "cell_type": "markdown",
   "metadata": {},
   "source": [
    "### Pickle the trained model"
   ]
  },
  {
   "cell_type": "code",
   "execution_count": null,
   "metadata": {},
   "outputs": [],
   "source": [
    "# Save the trained model using pickle\n",
    "with open('model_resnet.pkl', 'wb') as f:\n",
    "    pickle.dump(model_resnet, f)\n",
    "\n",
    "print(\"Model saved as model_resnet.pkl\")"
   ]
  },
  {
   "cell_type": "markdown",
   "metadata": {},
   "source": [
    "### Load the trained model"
   ]
  },
  {
   "cell_type": "code",
   "execution_count": null,
   "metadata": {},
   "outputs": [],
   "source": [
    "with open('model_resnet.pkl', 'rb') as f:\n",
    "    loaded_model_resnet = pickle.load(f)\n",
    "\n",
    "print(\"Model loaded from model_resnet.pkl\")"
   ]
  },
  {
   "cell_type": "code",
   "execution_count": null,
   "metadata": {},
   "outputs": [],
   "source": [
    "from shapely.geometry import Point\n",
    "from typing import List, Tuple\n",
    "import math\n",
    "\n",
    "def find_open_endpoints_explicit(lines: List[Tuple[int, int, int, int, str]],\n",
    "                                 tolerance: float = 5.0) -> List[Tuple[int, int]]:\n",
    "    \"\"\"\n",
    "    For each endpoint of every line, check if that endpoint is within a given tolerance\n",
    "    of any endpoint of any other line.\n",
    "    Returns a list of endpoints (as (x, y)) that are not connected\n",
    "    (i.e. they don't have any other endpoint within the tolerance).\n",
    "    \"\"\"\n",
    "    open_points = []\n",
    "    # For each line in the list...\n",
    "    for line in lines:\n",
    "        # Create two Point objects for its endpoints.\n",
    "        pt1 = Point(line[0], line[1])\n",
    "        pt2 = Point(line[2], line[3])\n",
    "        pt1_connected = False\n",
    "        pt2_connected = False\n",
    "        # Compare these endpoints against the endpoints of every other line.\n",
    "        for other in lines:\n",
    "            if other == line:\n",
    "                continue  # Skip the same line\n",
    "            other_pt1 = Point(other[0], other[1])\n",
    "            other_pt2 = Point(other[2], other[3])\n",
    "            # Check pt1 against both endpoints of the other line.\n",
    "            if pt1.distance(other_pt1) <= tolerance or pt1.distance(other_pt2) <= tolerance:\n",
    "                pt1_connected = True\n",
    "            # Check pt2 against both endpoints of the other line.\n",
    "            if pt2.distance(other_pt1) <= tolerance or pt2.distance(other_pt2) <= tolerance:\n",
    "                pt2_connected = True\n",
    "            if pt1_connected and pt2_connected:\n",
    "                break\n",
    "        if not pt1_connected:\n",
    "            open_points.append((line[0], line[1]))\n",
    "        if not pt2_connected:\n",
    "            open_points.append((line[2], line[3]))\n",
    "    # Remove duplicates\n",
    "    return list(set(open_points))\n",
    "\n",
    "def euclidean_distance(p1: Tuple[int, int], p2: Tuple[int, int]) -> float:\n",
    "    \"\"\"Helper function to compute Euclidean distance between two 2D points.\"\"\"\n",
    "    return math.sqrt((p1[0] - p2[0])**2 + (p1[1] - p2[1])**2)\n",
    "\n",
    "def bridge_open_endpoints_auto(lines: List[Tuple[int, int, int, int, str]],\n",
    "                               tolerance: float = 5.0,\n",
    "                               max_bridge_distance: float = None) -> List[Tuple[int, int, int, int, str]]:\n",
    "    \"\"\"\n",
    "    Automatically finds open endpoints from the list of lines and bridges them.\n",
    "    \n",
    "    If exactly two open endpoints are found, the function bridges them (as in your original code).\n",
    "    If more than two are found, it uses a greedy minimal-distance pairing, bridging only pairs whose\n",
    "    separation is less than or equal to max_bridge_distance. If max_bridge_distance is not set,\n",
    "    it defaults to 2 * tolerance.\n",
    "    \n",
    "    Returns an updated list of lines including the bridging line(s).\n",
    "    \"\"\"\n",
    "    # Find open endpoints using the explicit function\n",
    "    open_points = find_open_endpoints_explicit(lines, tolerance)\n",
    "    print(\"Found open endpoints:\", open_points)\n",
    "    \n",
    "    if max_bridge_distance is None:\n",
    "        max_bridge_distance = tolerance * 2  # a heuristic limit\n",
    "    \n",
    "    # If there are no open endpoints, or only one, there's nothing to do.\n",
    "    if len(open_points) < 2:\n",
    "        print(\"Not enough open endpoints to bridge.\")\n",
    "        return lines\n",
    "\n",
    "    # For exactly two endpoints, simply bridge them.\n",
    "    if len(open_points) == 2:\n",
    "        p1, p2 = open_points\n",
    "        # Determine the orientation\n",
    "        if abs(p1[0] - p2[0]) <= tolerance:\n",
    "            orientation = 'vertical (bridged)'\n",
    "        elif abs(p1[1] - p2[1]) <= tolerance:\n",
    "            orientation = 'horizontal (bridged)'\n",
    "        else:\n",
    "            orientation = 'diagonal (bridged)'\n",
    "        bridging_line = (p1[0], p1[1], p2[0], p2[1], orientation)\n",
    "        print(f\"Bridging gap between {p1} and {p2} with {bridging_line}\")\n",
    "        lines.append(bridging_line)\n",
    "        return lines\n",
    "\n",
    "    # For more than two open endpoints, do a greedy pairing based on the minimal distance.\n",
    "    # Build a list of all possible pairs (with their distances)\n",
    "    pairs = []\n",
    "    n = len(open_points)\n",
    "    for i in range(n):\n",
    "        for j in range(i + 1, n):\n",
    "            d = euclidean_distance(open_points[i], open_points[j])\n",
    "            pairs.append((d, i, j))\n",
    "    # Sort pairs by distance\n",
    "    pairs.sort(key=lambda x: x[0])\n",
    "\n",
    "    # Greedily pair endpoints if they are not already paired and if the distance is acceptable.\n",
    "    used = [False] * n\n",
    "    bridging_pairs = []\n",
    "    for d, i, j in pairs:\n",
    "        if used[i] or used[j]:\n",
    "            continue\n",
    "        if d <= max_bridge_distance:\n",
    "            bridging_pairs.append((open_points[i], open_points[j]))\n",
    "            used[i] = True\n",
    "            used[j] = True\n",
    "\n",
    "    # Add bridging lines for each selected pair.\n",
    "    for p1, p2 in bridging_pairs:\n",
    "        if abs(p1[0] - p2[0]) <= tolerance:\n",
    "            orientation = 'vertical (bridged)'\n",
    "        elif abs(p1[1] - p2[1]) <= tolerance:\n",
    "            orientation = 'horizontal (bridged)'\n",
    "        else:\n",
    "            orientation = 'diagonal (bridged)'\n",
    "        bridging_line = (p1[0], p1[1], p2[0], p2[1], orientation)\n",
    "        print(f\"Bridging gap between {p1} and {p2} with {bridging_line}\")\n",
    "        lines.append(bridging_line)\n",
    "\n",
    "    if not bridging_pairs:\n",
    "        print(\"No pairs were close enough to bridge (max_bridge_distance = {}).\".format(max_bridge_distance))\n",
    "    return lines\n",
    "\n",
    "# === Example Usage ===\n",
    "# Imagine a nearly closed rectangle missing its top edge.\n",
    "lines_info = [\n",
    "    (100, 100, 100, 300, 'vertical'),    # left vertical\n",
    "    (300, 100, 300, 300, 'vertical'),    # right vertical\n",
    "    (100, 100, 300, 100, 'horizontal')   # bottom horizontal\n",
    "    # Missing the top edge from (100,300) to (300,300)\n",
    "]\n",
    "\n",
    "# Use a tolerance that makes sense for your data.\n",
    "# Here, if the gap is small, the function will find exactly 2 open endpoints;\n",
    "# if there are more, it will try to pair them automatically.\n",
    "updated_lines = bridge_open_endpoints_auto(lines_info, tolerance=12.0)\n",
    "\n",
    "print(\"\\nFinal Lines (including bridging line(s) if added):\")\n",
    "for ln in updated_lines:\n",
    "    print(ln)\n"
   ]
  }
 ],
 "metadata": {
  "kernelspec": {
   "display_name": "xai",
   "language": "python",
   "name": "python3"
  },
  "language_info": {
   "codemirror_mode": {
    "name": "ipython",
    "version": 3
   },
   "file_extension": ".py",
   "mimetype": "text/x-python",
   "name": "python",
   "nbconvert_exporter": "python",
   "pygments_lexer": "ipython3",
   "version": "3.10.16"
  }
 },
 "nbformat": 4,
 "nbformat_minor": 2
}
