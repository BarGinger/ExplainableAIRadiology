{
 "cells": [
  {
   "cell_type": "code",
   "execution_count": 1,
   "metadata": {},
   "outputs": [],
   "source": [
    "# Importing libraries\n",
    "import pandas as pd\n",
    "from preprocessing_utils import prepare_dataset, split_train_val, prepare_test_dataset\n",
    "import numpy as np\n",
    "from IPython.display import display\n",
    "import torch\n",
    "import torch.nn as nn\n",
    "import torch.optim as optim\n",
    "from torch.utils.data import Dataset, DataLoader\n",
    "from torchvision import transforms\n",
    "from PIL import Image\n",
    "import pandas as pd\n",
    "from dataset import CheXpertDataset\n",
    "import matplotlib.pyplot as plt\n",
    "import numpy as np\n",
    "import torchvision.models as models\n",
    "import torch.nn as nn\n",
    "from training_utils import train_model, upload_pretrained, upload_pretrained_vit\n",
    "from torchsummary import summary\n",
    "import torchvision.models as models\n",
    "from tqdm.notebook import tqdm\n",
    "import pickle"
   ]
  },
  {
   "cell_type": "code",
   "execution_count": 2,
   "metadata": {},
   "outputs": [
    {
     "name": "stderr",
     "output_type": "stream",
     "text": [
      "(Deprecated) Installing extensions with the jupyter labextension install command is now deprecated and will be removed in a future major version of JupyterLab.\n",
      "\n",
      "Users should manage prebuilt extensions with package managers like pip and conda, and extension authors are encouraged to distribute their extensions as prebuilt packages \n",
      "C:\\Users\\bar24\\anaconda3\\Lib\\site-packages\\jupyterlab\\debuglog.py:54: UserWarning: An error occurred.\n",
      "  warnings.warn(\"An error occurred.\")\n",
      "C:\\Users\\bar24\\anaconda3\\Lib\\site-packages\\jupyterlab\\debuglog.py:55: UserWarning: ValueError: Please install Node.js and npm before continuing installation. You may be able to install Node.js from your package manager, from conda, or directly from the Node.js website (https://nodejs.org).\n",
      "  warnings.warn(msg[-1].strip())\n",
      "C:\\Users\\bar24\\anaconda3\\Lib\\site-packages\\jupyterlab\\debuglog.py:56: UserWarning: See the log file for details: C:\\Users\\bar24\\AppData\\Local\\Temp\\jupyterlab-debug-5b7y768e.log\n",
      "  warnings.warn(f\"See the log file for details: {log_path!s}\")\n"
     ]
    }
   ],
   "source": [
    "# Enable the widgets extension for JupyterLab\n",
    "!jupyter labextension install @jupyter-widgets/jupyterlab-manager"
   ]
  },
  {
   "cell_type": "code",
   "execution_count": null,
   "metadata": {},
   "outputs": [],
   "source": [
    "# Global variables\n",
    "\n",
    "# Define the class names for the medical conditions\n",
    "class_names = ['Atelectasis', 'Cardiomegaly', 'Consolidation', 'Edema', 'Pleural Effusion']\n",
    "\n",
    "# Define the policies for dataset preparation\n",
    "policies = ['ones', 'zeroes', 'mixed']"
   ]
  },
  {
   "cell_type": "markdown",
   "metadata": {},
   "source": [
    "#### Constructing training dataset"
   ]
  },
  {
   "cell_type": "code",
   "execution_count": 19,
   "metadata": {},
   "outputs": [],
   "source": [
    "# Import the train dataset\n",
    "original_train_df = pd.read_csv('CheXpert-v1.0-small/train.csv')\n",
    "\n",
    "# # Prepare the dataset using the last policy in the list and the defined class names\n",
    "# image_paths, label_matrix = prepare_dataset(original_train_df, policies[-1], class_names)\n",
    "\n",
    "# # Create a DataFrame for the image paths\n",
    "# image_paths_df = pd.DataFrame({'path': image_paths})\n",
    "\n",
    "# # Create a DataFrame for the labels with the class names as columns\n",
    "# labels_df = pd.DataFrame(label_matrix, columns=class_names)\n",
    "\n",
    "# # Combine the image paths DataFrame and the labels DataFrame\n",
    "# original_train_df = pd.concat([image_paths_df, labels_df], axis=1)\n",
    "\n",
    "# Split the original training data into separate training \n",
    "# and validation sets while preserving the original \n",
    "# validation test set as the final test set.\n",
    "train_df, validation_df = split_train_val(original_train_df, policies[-1], class_names)\n",
    "\n",
    "# Keep only the 'Pleural Effusion' column and any other necessary columns (e.g., image paths)\n",
    "train_df = train_df[['path', 'Pleural Effusion']]\n",
    "validation_df = validation_df[['path', 'Pleural Effusion']]"
   ]
  },
  {
   "cell_type": "code",
   "execution_count": 25,
   "metadata": {},
   "outputs": [
    {
     "data": {
      "text/html": [
       "<div>\n",
       "<style scoped>\n",
       "    .dataframe tbody tr th:only-of-type {\n",
       "        vertical-align: middle;\n",
       "    }\n",
       "\n",
       "    .dataframe tbody tr th {\n",
       "        vertical-align: top;\n",
       "    }\n",
       "\n",
       "    .dataframe thead th {\n",
       "        text-align: right;\n",
       "    }\n",
       "</style>\n",
       "<table border=\"1\" class=\"dataframe\">\n",
       "  <thead>\n",
       "    <tr style=\"text-align: right;\">\n",
       "      <th></th>\n",
       "      <th>path</th>\n",
       "      <th>Pleural Effusion</th>\n",
       "    </tr>\n",
       "  </thead>\n",
       "  <tbody>\n",
       "    <tr>\n",
       "      <th>0</th>\n",
       "      <td>CheXpert-v1.0-small/train/patient43609/study1/...</td>\n",
       "      <td>0</td>\n",
       "    </tr>\n",
       "    <tr>\n",
       "      <th>1</th>\n",
       "      <td>CheXpert-v1.0-small/train/patient09753/study3/...</td>\n",
       "      <td>0</td>\n",
       "    </tr>\n",
       "    <tr>\n",
       "      <th>2</th>\n",
       "      <td>CheXpert-v1.0-small/train/patient24226/study1/...</td>\n",
       "      <td>1</td>\n",
       "    </tr>\n",
       "    <tr>\n",
       "      <th>3</th>\n",
       "      <td>CheXpert-v1.0-small/train/patient01545/study19...</td>\n",
       "      <td>1</td>\n",
       "    </tr>\n",
       "    <tr>\n",
       "      <th>4</th>\n",
       "      <td>CheXpert-v1.0-small/train/patient34656/study4/...</td>\n",
       "      <td>1</td>\n",
       "    </tr>\n",
       "    <tr>\n",
       "      <th>5</th>\n",
       "      <td>CheXpert-v1.0-small/train/patient14410/study1/...</td>\n",
       "      <td>0</td>\n",
       "    </tr>\n",
       "    <tr>\n",
       "      <th>6</th>\n",
       "      <td>CheXpert-v1.0-small/train/patient30470/study1/...</td>\n",
       "      <td>1</td>\n",
       "    </tr>\n",
       "    <tr>\n",
       "      <th>7</th>\n",
       "      <td>CheXpert-v1.0-small/train/patient50967/study6/...</td>\n",
       "      <td>0</td>\n",
       "    </tr>\n",
       "    <tr>\n",
       "      <th>8</th>\n",
       "      <td>CheXpert-v1.0-small/train/patient38932/study3/...</td>\n",
       "      <td>1</td>\n",
       "    </tr>\n",
       "    <tr>\n",
       "      <th>9</th>\n",
       "      <td>CheXpert-v1.0-small/train/patient20477/study14...</td>\n",
       "      <td>0</td>\n",
       "    </tr>\n",
       "  </tbody>\n",
       "</table>\n",
       "</div>"
      ],
      "text/plain": [
       "                                                path  Pleural Effusion\n",
       "0  CheXpert-v1.0-small/train/patient43609/study1/...                 0\n",
       "1  CheXpert-v1.0-small/train/patient09753/study3/...                 0\n",
       "2  CheXpert-v1.0-small/train/patient24226/study1/...                 1\n",
       "3  CheXpert-v1.0-small/train/patient01545/study19...                 1\n",
       "4  CheXpert-v1.0-small/train/patient34656/study4/...                 1\n",
       "5  CheXpert-v1.0-small/train/patient14410/study1/...                 0\n",
       "6  CheXpert-v1.0-small/train/patient30470/study1/...                 1\n",
       "7  CheXpert-v1.0-small/train/patient50967/study6/...                 0\n",
       "8  CheXpert-v1.0-small/train/patient38932/study3/...                 1\n",
       "9  CheXpert-v1.0-small/train/patient20477/study14...                 0"
      ]
     },
     "metadata": {},
     "output_type": "display_data"
    },
    {
     "name": "stdout",
     "output_type": "stream",
     "text": [
      "The original training dataset contains 223414 samples.\n",
      "Number of rows and columns in the train DataFrame: (152821, 2)\n",
      "Column names and data types:\n",
      "path                object\n",
      "Pleural Effusion     int32\n",
      "dtype: object\n"
     ]
    }
   ],
   "source": [
    "# Print some information about the train DataFrame\n",
    "# Set pandas display options to show all columns\n",
    "pd.set_option('display.max_columns', None)\n",
    "display(train_df.head(10))\n",
    "print(f\"The original training dataset contains {original_train_df.shape[0]} samples.\")\n",
    "print(\"Number of rows and columns in the train DataFrame:\", train_df.shape)\n",
    "# Print the column names and their data types\n",
    "print(\"Column names and data types:\")\n",
    "print(train_df.dtypes)"
   ]
  },
  {
   "cell_type": "code",
   "execution_count": 26,
   "metadata": {},
   "outputs": [
    {
     "data": {
      "text/html": [
       "<div>\n",
       "<style scoped>\n",
       "    .dataframe tbody tr th:only-of-type {\n",
       "        vertical-align: middle;\n",
       "    }\n",
       "\n",
       "    .dataframe tbody tr th {\n",
       "        vertical-align: top;\n",
       "    }\n",
       "\n",
       "    .dataframe thead th {\n",
       "        text-align: right;\n",
       "    }\n",
       "</style>\n",
       "<table border=\"1\" class=\"dataframe\">\n",
       "  <thead>\n",
       "    <tr style=\"text-align: right;\">\n",
       "      <th></th>\n",
       "      <th>path</th>\n",
       "      <th>Pleural Effusion</th>\n",
       "    </tr>\n",
       "  </thead>\n",
       "  <tbody>\n",
       "    <tr>\n",
       "      <th>0</th>\n",
       "      <td>CheXpert-v1.0-small/train/patient30642/study3/...</td>\n",
       "      <td>0</td>\n",
       "    </tr>\n",
       "    <tr>\n",
       "      <th>1</th>\n",
       "      <td>CheXpert-v1.0-small/train/patient47165/study1/...</td>\n",
       "      <td>0</td>\n",
       "    </tr>\n",
       "    <tr>\n",
       "      <th>2</th>\n",
       "      <td>CheXpert-v1.0-small/train/patient48106/study4/...</td>\n",
       "      <td>0</td>\n",
       "    </tr>\n",
       "    <tr>\n",
       "      <th>3</th>\n",
       "      <td>CheXpert-v1.0-small/train/patient35473/study1/...</td>\n",
       "      <td>0</td>\n",
       "    </tr>\n",
       "    <tr>\n",
       "      <th>4</th>\n",
       "      <td>CheXpert-v1.0-small/train/patient40872/study1/...</td>\n",
       "      <td>1</td>\n",
       "    </tr>\n",
       "    <tr>\n",
       "      <th>5</th>\n",
       "      <td>CheXpert-v1.0-small/train/patient35108/study4/...</td>\n",
       "      <td>1</td>\n",
       "    </tr>\n",
       "    <tr>\n",
       "      <th>6</th>\n",
       "      <td>CheXpert-v1.0-small/train/patient44537/study4/...</td>\n",
       "      <td>1</td>\n",
       "    </tr>\n",
       "    <tr>\n",
       "      <th>7</th>\n",
       "      <td>CheXpert-v1.0-small/train/patient35442/study6/...</td>\n",
       "      <td>0</td>\n",
       "    </tr>\n",
       "    <tr>\n",
       "      <th>8</th>\n",
       "      <td>CheXpert-v1.0-small/train/patient46744/study1/...</td>\n",
       "      <td>1</td>\n",
       "    </tr>\n",
       "    <tr>\n",
       "      <th>9</th>\n",
       "      <td>CheXpert-v1.0-small/train/patient11485/study1/...</td>\n",
       "      <td>0</td>\n",
       "    </tr>\n",
       "  </tbody>\n",
       "</table>\n",
       "</div>"
      ],
      "text/plain": [
       "                                                path  Pleural Effusion\n",
       "0  CheXpert-v1.0-small/train/patient30642/study3/...                 0\n",
       "1  CheXpert-v1.0-small/train/patient47165/study1/...                 0\n",
       "2  CheXpert-v1.0-small/train/patient48106/study4/...                 0\n",
       "3  CheXpert-v1.0-small/train/patient35473/study1/...                 0\n",
       "4  CheXpert-v1.0-small/train/patient40872/study1/...                 1\n",
       "5  CheXpert-v1.0-small/train/patient35108/study4/...                 1\n",
       "6  CheXpert-v1.0-small/train/patient44537/study4/...                 1\n",
       "7  CheXpert-v1.0-small/train/patient35442/study6/...                 0\n",
       "8  CheXpert-v1.0-small/train/patient46744/study1/...                 1\n",
       "9  CheXpert-v1.0-small/train/patient11485/study1/...                 0"
      ]
     },
     "metadata": {},
     "output_type": "display_data"
    },
    {
     "name": "stdout",
     "output_type": "stream",
     "text": [
      "The original training dataset contains 223414 samples.\n",
      "Number of rows and columns in the validation DataFrame: (38206, 2)\n",
      "Column names and data types:\n",
      "path                object\n",
      "Pleural Effusion     int32\n",
      "dtype: object\n"
     ]
    }
   ],
   "source": [
    "# Print some information about the validtion DataFrame\n",
    "# Set pandas display options to show all columns\n",
    "pd.set_option('display.max_columns', None)\n",
    "display(validation_df.head(10))\n",
    "print(f\"The original training dataset contains {original_train_df.shape[0]} samples.\")\n",
    "print(\"Number of rows and columns in the validation DataFrame:\", validation_df.shape)\n",
    "# Print the column names and their data types\n",
    "print(\"Column names and data types:\")\n",
    "print(validation_df.dtypes)"
   ]
  },
  {
   "cell_type": "markdown",
   "metadata": {},
   "source": [
    "#### Constructing validation dataset"
   ]
  },
  {
   "cell_type": "code",
   "execution_count": 27,
   "metadata": {},
   "outputs": [],
   "source": [
    "# Import the validation dataset as final test set\n",
    "test_df = pd.read_csv('CheXpert-v1.0-small/valid.csv')\n",
    "\n",
    "# Prepare the test dataset using the last policy in the list and the defined class names\n",
    "test_image_paths, test_label_matrix = prepare_dataset(test_df, policies[-1], class_names)\n",
    "\n",
    "# Create a DataFrame for the test image paths\n",
    "test_image_paths_df = pd.DataFrame({'path': test_image_paths})\n",
    "\n",
    "# Create a DataFrame for the test labels with the class names as columns\n",
    "test_labels_df = pd.DataFrame(test_label_matrix, columns=class_names)\n",
    "\n",
    "# Combine the test image paths DataFrame and the test labels DataFrame\n",
    "test_df = pd.concat([test_image_paths_df, test_labels_df], axis=1)\n",
    "\n",
    "# Keep only the 'Pleural Effusion' column and any other necessary columns (e.g., image paths)\n",
    "test_df = test_df[['path', 'Pleural Effusion']]"
   ]
  },
  {
   "cell_type": "code",
   "execution_count": 28,
   "metadata": {},
   "outputs": [
    {
     "data": {
      "text/html": [
       "<div>\n",
       "<style scoped>\n",
       "    .dataframe tbody tr th:only-of-type {\n",
       "        vertical-align: middle;\n",
       "    }\n",
       "\n",
       "    .dataframe tbody tr th {\n",
       "        vertical-align: top;\n",
       "    }\n",
       "\n",
       "    .dataframe thead th {\n",
       "        text-align: right;\n",
       "    }\n",
       "</style>\n",
       "<table border=\"1\" class=\"dataframe\">\n",
       "  <thead>\n",
       "    <tr style=\"text-align: right;\">\n",
       "      <th></th>\n",
       "      <th>path</th>\n",
       "      <th>Pleural Effusion</th>\n",
       "    </tr>\n",
       "  </thead>\n",
       "  <tbody>\n",
       "    <tr>\n",
       "      <th>0</th>\n",
       "      <td>CheXpert-v1.0-small/valid/patient64735/study1/...</td>\n",
       "      <td>0</td>\n",
       "    </tr>\n",
       "    <tr>\n",
       "      <th>1</th>\n",
       "      <td>CheXpert-v1.0-small/valid/patient64634/study1/...</td>\n",
       "      <td>0</td>\n",
       "    </tr>\n",
       "    <tr>\n",
       "      <th>2</th>\n",
       "      <td>CheXpert-v1.0-small/valid/patient64712/study1/...</td>\n",
       "      <td>0</td>\n",
       "    </tr>\n",
       "    <tr>\n",
       "      <th>3</th>\n",
       "      <td>CheXpert-v1.0-small/valid/patient64662/study1/...</td>\n",
       "      <td>0</td>\n",
       "    </tr>\n",
       "    <tr>\n",
       "      <th>4</th>\n",
       "      <td>CheXpert-v1.0-small/valid/patient64578/study1/...</td>\n",
       "      <td>0</td>\n",
       "    </tr>\n",
       "  </tbody>\n",
       "</table>\n",
       "</div>"
      ],
      "text/plain": [
       "                                                path  Pleural Effusion\n",
       "0  CheXpert-v1.0-small/valid/patient64735/study1/...                 0\n",
       "1  CheXpert-v1.0-small/valid/patient64634/study1/...                 0\n",
       "2  CheXpert-v1.0-small/valid/patient64712/study1/...                 0\n",
       "3  CheXpert-v1.0-small/valid/patient64662/study1/...                 0\n",
       "4  CheXpert-v1.0-small/valid/patient64578/study1/...                 0"
      ]
     },
     "metadata": {},
     "output_type": "display_data"
    },
    {
     "name": "stdout",
     "output_type": "stream",
     "text": [
      "Number of rows and columns in the test DataFrame: (202, 2)\n",
      "Column names and data types:\n",
      "path                object\n",
      "Pleural Effusion     int32\n",
      "dtype: object\n"
     ]
    }
   ],
   "source": [
    "# Print some information about the train DataFrame\n",
    "# Set pandas display options to show all columns\n",
    "display(test_df.head())\n",
    "print(\"Number of rows and columns in the test DataFrame:\", test_df.shape)\n",
    "# Print the column names and their data types\n",
    "print(\"Column names and data types:\")\n",
    "print(test_df.dtypes)"
   ]
  },
  {
   "cell_type": "markdown",
   "metadata": {},
   "source": [
    "#### Dataset formation according to torch (using dataloaders)"
   ]
  },
  {
   "cell_type": "code",
   "execution_count": null,
   "metadata": {},
   "outputs": [],
   "source": [
    "# Define the class names for the medical conditions\n",
    "class_names = ['Atelectasis', 'Cardiomegaly', 'Consolidation', 'Edema', 'Pleural Effusion']\n",
    "\n",
    "# Define the transformation pipeline for the images\n",
    "transform = transforms.Compose([\n",
    "    transforms.Resize((224, 224)),  # Resize images to 224x224 pixels\n",
    "    transforms.ToTensor(),          # Convert images to PyTorch tensors\n",
    "    transforms.Normalize(mean=[0.5], std=[0.5])  # Normalize grayscale images\n",
    "])\n",
    "\n",
    "# Create the training dataset with the defined transformations\n",
    "train_dataset = CheXpertDataset(train_df, class_names, transform=transform)\n",
    "\n",
    "# Create the validation dataset with the defined transformations\n",
    "valid_dataset = CheXpertDataset(validation_df, class_names, transform=transform)\n",
    "\n",
    "# Create DataLoader for the training dataset\n",
    "train_loader = DataLoader(train_dataset, batch_size=32, shuffle=True)\n",
    "\n",
    "# Create DataLoader for the validation dataset\n",
    "valid_loader = DataLoader(valid_dataset, batch_size=16, shuffle=False)\n",
    "\n",
    "# Verify data loading by fetching a batch of images and labels from the training DataLoader\n",
    "images, labels = next(iter(train_loader))"
   ]
  },
  {
   "cell_type": "markdown",
   "metadata": {},
   "source": [
    "#### Visualising example"
   ]
  },
  {
   "cell_type": "code",
   "execution_count": 10,
   "metadata": {},
   "outputs": [],
   "source": [
    "# Fetch a batch of images and labels from the validation DataLoader\n",
    "# test_X contains the images and test_Y contains the\n",
    "# corresponding labels from the validation set\n",
    "test_X, test_Y = next(iter(valid_loader))"
   ]
  },
  {
   "cell_type": "code",
   "execution_count": 11,
   "metadata": {},
   "outputs": [
    {
     "name": "stdout",
     "output_type": "stream",
     "text": [
      "Original shape: torch.Size([3, 224, 224]), New shape: (224, 224, 3)\n",
      "Example image:\n"
     ]
    },
    {
     "data": {
      "image/png": "[encoded data removed]",
      "text/plain": [
       "<Figure size 640x480 with 1 Axes>"
      ]
     },
     "metadata": {},
     "output_type": "display_data"
    }
   ],
   "source": [
    "# Select the first image in the batch\n",
    "image = test_X[0]\n",
    "original_shape = image.shape\n",
    "image = image.permute(1, 2, 0).numpy()  # Change shape to (224, 224, 3)\n",
    "new_shape = image.shape\n",
    "print(f\"Original shape: {original_shape}, New shape: {new_shape}\")\n",
    "# Check the shape of the image to ensure it is (224, 224, 3)\n",
    "assert new_shape == (224, 224, 3), f\"Expected shape (224, 224, 3), but got {image.shape}\"\n",
    "\n",
    "# Denormalize the image for visualization\n",
    "image = (image * 0.5) + 0.5\n",
    "\n",
    "# Plot the image\n",
    "print(\"Example image:\")\n",
    "plt.imshow(image)\n",
    "plt.axis('off')  # Hide axes\n",
    "plt.show()"
   ]
  },
  {
   "cell_type": "markdown",
   "metadata": {},
   "source": [
    "#### Here we can extract different pre-trained models (in the given example, Resnet18 and vision transformer)."
   ]
  },
  {
   "cell_type": "code",
   "execution_count": 12,
   "metadata": {},
   "outputs": [
    {
     "name": "stdout",
     "output_type": "stream",
     "text": [
      "Using device: cuda\n"
     ]
    },
    {
     "data": {
      "text/plain": [
       "ResNet(\n",
       "  (conv1): Conv2d(3, 64, kernel_size=(7, 7), stride=(2, 2), padding=(3, 3), bias=False)\n",
       "  (bn1): BatchNorm2d(64, eps=1e-05, momentum=0.1, affine=True, track_running_stats=True)\n",
       "  (relu): ReLU(inplace=True)\n",
       "  (maxpool): MaxPool2d(kernel_size=3, stride=2, padding=1, dilation=1, ceil_mode=False)\n",
       "  (layer1): Sequential(\n",
       "    (0): BasicBlock(\n",
       "      (conv1): Conv2d(64, 64, kernel_size=(3, 3), stride=(1, 1), padding=(1, 1), bias=False)\n",
       "      (bn1): BatchNorm2d(64, eps=1e-05, momentum=0.1, affine=True, track_running_stats=True)\n",
       "      (relu): ReLU(inplace=True)\n",
       "      (conv2): Conv2d(64, 64, kernel_size=(3, 3), stride=(1, 1), padding=(1, 1), bias=False)\n",
       "      (bn2): BatchNorm2d(64, eps=1e-05, momentum=0.1, affine=True, track_running_stats=True)\n",
       "    )\n",
       "    (1): BasicBlock(\n",
       "      (conv1): Conv2d(64, 64, kernel_size=(3, 3), stride=(1, 1), padding=(1, 1), bias=False)\n",
       "      (bn1): BatchNorm2d(64, eps=1e-05, momentum=0.1, affine=True, track_running_stats=True)\n",
       "      (relu): ReLU(inplace=True)\n",
       "      (conv2): Conv2d(64, 64, kernel_size=(3, 3), stride=(1, 1), padding=(1, 1), bias=False)\n",
       "      (bn2): BatchNorm2d(64, eps=1e-05, momentum=0.1, affine=True, track_running_stats=True)\n",
       "    )\n",
       "  )\n",
       "  (layer2): Sequential(\n",
       "    (0): BasicBlock(\n",
       "      (conv1): Conv2d(64, 128, kernel_size=(3, 3), stride=(2, 2), padding=(1, 1), bias=False)\n",
       "      (bn1): BatchNorm2d(128, eps=1e-05, momentum=0.1, affine=True, track_running_stats=True)\n",
       "      (relu): ReLU(inplace=True)\n",
       "      (conv2): Conv2d(128, 128, kernel_size=(3, 3), stride=(1, 1), padding=(1, 1), bias=False)\n",
       "      (bn2): BatchNorm2d(128, eps=1e-05, momentum=0.1, affine=True, track_running_stats=True)\n",
       "      (downsample): Sequential(\n",
       "        (0): Conv2d(64, 128, kernel_size=(1, 1), stride=(2, 2), bias=False)\n",
       "        (1): BatchNorm2d(128, eps=1e-05, momentum=0.1, affine=True, track_running_stats=True)\n",
       "      )\n",
       "    )\n",
       "    (1): BasicBlock(\n",
       "      (conv1): Conv2d(128, 128, kernel_size=(3, 3), stride=(1, 1), padding=(1, 1), bias=False)\n",
       "      (bn1): BatchNorm2d(128, eps=1e-05, momentum=0.1, affine=True, track_running_stats=True)\n",
       "      (relu): ReLU(inplace=True)\n",
       "      (conv2): Conv2d(128, 128, kernel_size=(3, 3), stride=(1, 1), padding=(1, 1), bias=False)\n",
       "      (bn2): BatchNorm2d(128, eps=1e-05, momentum=0.1, affine=True, track_running_stats=True)\n",
       "    )\n",
       "  )\n",
       "  (layer3): Sequential(\n",
       "    (0): BasicBlock(\n",
       "      (conv1): Conv2d(128, 256, kernel_size=(3, 3), stride=(2, 2), padding=(1, 1), bias=False)\n",
       "      (bn1): BatchNorm2d(256, eps=1e-05, momentum=0.1, affine=True, track_running_stats=True)\n",
       "      (relu): ReLU(inplace=True)\n",
       "      (conv2): Conv2d(256, 256, kernel_size=(3, 3), stride=(1, 1), padding=(1, 1), bias=False)\n",
       "      (bn2): BatchNorm2d(256, eps=1e-05, momentum=0.1, affine=True, track_running_stats=True)\n",
       "      (downsample): Sequential(\n",
       "        (0): Conv2d(128, 256, kernel_size=(1, 1), stride=(2, 2), bias=False)\n",
       "        (1): BatchNorm2d(256, eps=1e-05, momentum=0.1, affine=True, track_running_stats=True)\n",
       "      )\n",
       "    )\n",
       "    (1): BasicBlock(\n",
       "      (conv1): Conv2d(256, 256, kernel_size=(3, 3), stride=(1, 1), padding=(1, 1), bias=False)\n",
       "      (bn1): BatchNorm2d(256, eps=1e-05, momentum=0.1, affine=True, track_running_stats=True)\n",
       "      (relu): ReLU(inplace=True)\n",
       "      (conv2): Conv2d(256, 256, kernel_size=(3, 3), stride=(1, 1), padding=(1, 1), bias=False)\n",
       "      (bn2): BatchNorm2d(256, eps=1e-05, momentum=0.1, affine=True, track_running_stats=True)\n",
       "    )\n",
       "  )\n",
       "  (layer4): Sequential(\n",
       "    (0): BasicBlock(\n",
       "      (conv1): Conv2d(256, 512, kernel_size=(3, 3), stride=(2, 2), padding=(1, 1), bias=False)\n",
       "      (bn1): BatchNorm2d(512, eps=1e-05, momentum=0.1, affine=True, track_running_stats=True)\n",
       "      (relu): ReLU(inplace=True)\n",
       "      (conv2): Conv2d(512, 512, kernel_size=(3, 3), stride=(1, 1), padding=(1, 1), bias=False)\n",
       "      (bn2): BatchNorm2d(512, eps=1e-05, momentum=0.1, affine=True, track_running_stats=True)\n",
       "      (downsample): Sequential(\n",
       "        (0): Conv2d(256, 512, kernel_size=(1, 1), stride=(2, 2), bias=False)\n",
       "        (1): BatchNorm2d(512, eps=1e-05, momentum=0.1, affine=True, track_running_stats=True)\n",
       "      )\n",
       "    )\n",
       "    (1): BasicBlock(\n",
       "      (conv1): Conv2d(512, 512, kernel_size=(3, 3), stride=(1, 1), padding=(1, 1), bias=False)\n",
       "      (bn1): BatchNorm2d(512, eps=1e-05, momentum=0.1, affine=True, track_running_stats=True)\n",
       "      (relu): ReLU(inplace=True)\n",
       "      (conv2): Conv2d(512, 512, kernel_size=(3, 3), stride=(1, 1), padding=(1, 1), bias=False)\n",
       "      (bn2): BatchNorm2d(512, eps=1e-05, momentum=0.1, affine=True, track_running_stats=True)\n",
       "    )\n",
       "  )\n",
       "  (avgpool): AdaptiveAvgPool2d(output_size=(1, 1))\n",
       "  (fc): Sequential(\n",
       "    (0): Linear(in_features=512, out_features=16, bias=True)\n",
       "    (1): ReLU()\n",
       "    (2): Dropout(p=0.5, inplace=False)\n",
       "    (3): Linear(in_features=16, out_features=5, bias=True)\n",
       "  )\n",
       ")"
      ]
     },
     "execution_count": 12,
     "metadata": {},
     "output_type": "execute_result"
    }
   ],
   "source": [
    "# Load a pre-trained ResNet-18 model, add custom layers, and freeze certain layers\n",
    "# \n",
    "# Parameters:\n",
    "# - pretrained: Use a pre-trained version of ResNet-18\n",
    "# - add_layers: Add custom layers to the model\n",
    "# - n_labels: Number of output labels (classes)\n",
    "# - freeze_layers: Freeze the layers of the pre-trained model to prevent them from being updated during training\n",
    "resnet18 = models.resnet18(weights=models.ResNet18_Weights.IMAGENET1K_V1)\n",
    "model_resnet = upload_pretrained(resnet18, add_layers=True, n_labels=len(class_names), freeze_layers=True)\n",
    "# Check if CUDA is available and set the device\n",
    "device = torch.device(\"cuda\" if torch.cuda.is_available() else \"cpu\")\n",
    "print(f\"Using device: {device}\")\n",
    "# Move the model to the appropriate device\n",
    "model_resnet.to(device)"
   ]
  },
  {
   "cell_type": "markdown",
   "metadata": {},
   "source": [
    "##### Moreover, we can see summary of a model"
   ]
  },
  {
   "cell_type": "code",
   "execution_count": 13,
   "metadata": {},
   "outputs": [
    {
     "name": "stdout",
     "output_type": "stream",
     "text": [
      "----------------------------------------------------------------\n",
      "        Layer (type)               Output Shape         Param #\n",
      "================================================================\n",
      "            Conv2d-1         [-1, 64, 112, 112]           9,408\n",
      "       BatchNorm2d-2         [-1, 64, 112, 112]             128\n",
      "              ReLU-3         [-1, 64, 112, 112]               0\n",
      "         MaxPool2d-4           [-1, 64, 56, 56]               0\n",
      "            Conv2d-5           [-1, 64, 56, 56]          36,864\n",
      "       BatchNorm2d-6           [-1, 64, 56, 56]             128\n",
      "              ReLU-7           [-1, 64, 56, 56]               0\n",
      "            Conv2d-8           [-1, 64, 56, 56]          36,864\n",
      "       BatchNorm2d-9           [-1, 64, 56, 56]             128\n",
      "             ReLU-10           [-1, 64, 56, 56]               0\n",
      "       BasicBlock-11           [-1, 64, 56, 56]               0\n",
      "           Conv2d-12           [-1, 64, 56, 56]          36,864\n",
      "      BatchNorm2d-13           [-1, 64, 56, 56]             128\n",
      "             ReLU-14           [-1, 64, 56, 56]               0\n",
      "           Conv2d-15           [-1, 64, 56, 56]          36,864\n",
      "      BatchNorm2d-16           [-1, 64, 56, 56]             128\n",
      "             ReLU-17           [-1, 64, 56, 56]               0\n",
      "       BasicBlock-18           [-1, 64, 56, 56]               0\n",
      "           Conv2d-19          [-1, 128, 28, 28]          73,728\n",
      "      BatchNorm2d-20          [-1, 128, 28, 28]             256\n",
      "             ReLU-21          [-1, 128, 28, 28]               0\n",
      "           Conv2d-22          [-1, 128, 28, 28]         147,456\n",
      "      BatchNorm2d-23          [-1, 128, 28, 28]             256\n",
      "           Conv2d-24          [-1, 128, 28, 28]           8,192\n",
      "      BatchNorm2d-25          [-1, 128, 28, 28]             256\n",
      "             ReLU-26          [-1, 128, 28, 28]               0\n",
      "       BasicBlock-27          [-1, 128, 28, 28]               0\n",
      "           Conv2d-28          [-1, 128, 28, 28]         147,456\n",
      "      BatchNorm2d-29          [-1, 128, 28, 28]             256\n",
      "             ReLU-30          [-1, 128, 28, 28]               0\n",
      "           Conv2d-31          [-1, 128, 28, 28]         147,456\n",
      "      BatchNorm2d-32          [-1, 128, 28, 28]             256\n",
      "             ReLU-33          [-1, 128, 28, 28]               0\n",
      "       BasicBlock-34          [-1, 128, 28, 28]               0\n",
      "           Conv2d-35          [-1, 256, 14, 14]         294,912\n",
      "      BatchNorm2d-36          [-1, 256, 14, 14]             512\n",
      "             ReLU-37          [-1, 256, 14, 14]               0\n",
      "           Conv2d-38          [-1, 256, 14, 14]         589,824\n",
      "      BatchNorm2d-39          [-1, 256, 14, 14]             512\n",
      "           Conv2d-40          [-1, 256, 14, 14]          32,768\n",
      "      BatchNorm2d-41          [-1, 256, 14, 14]             512\n",
      "             ReLU-42          [-1, 256, 14, 14]               0\n",
      "       BasicBlock-43          [-1, 256, 14, 14]               0\n",
      "           Conv2d-44          [-1, 256, 14, 14]         589,824\n",
      "      BatchNorm2d-45          [-1, 256, 14, 14]             512\n",
      "             ReLU-46          [-1, 256, 14, 14]               0\n",
      "           Conv2d-47          [-1, 256, 14, 14]         589,824\n",
      "      BatchNorm2d-48          [-1, 256, 14, 14]             512\n",
      "             ReLU-49          [-1, 256, 14, 14]               0\n",
      "       BasicBlock-50          [-1, 256, 14, 14]               0\n",
      "           Conv2d-51            [-1, 512, 7, 7]       1,179,648\n",
      "      BatchNorm2d-52            [-1, 512, 7, 7]           1,024\n",
      "             ReLU-53            [-1, 512, 7, 7]               0\n",
      "           Conv2d-54            [-1, 512, 7, 7]       2,359,296\n",
      "      BatchNorm2d-55            [-1, 512, 7, 7]           1,024\n",
      "           Conv2d-56            [-1, 512, 7, 7]         131,072\n",
      "      BatchNorm2d-57            [-1, 512, 7, 7]           1,024\n",
      "             ReLU-58            [-1, 512, 7, 7]               0\n",
      "       BasicBlock-59            [-1, 512, 7, 7]               0\n",
      "           Conv2d-60            [-1, 512, 7, 7]       2,359,296\n",
      "      BatchNorm2d-61            [-1, 512, 7, 7]           1,024\n",
      "             ReLU-62            [-1, 512, 7, 7]               0\n",
      "           Conv2d-63            [-1, 512, 7, 7]       2,359,296\n",
      "      BatchNorm2d-64            [-1, 512, 7, 7]           1,024\n",
      "             ReLU-65            [-1, 512, 7, 7]               0\n",
      "       BasicBlock-66            [-1, 512, 7, 7]               0\n",
      "AdaptiveAvgPool2d-67            [-1, 512, 1, 1]               0\n",
      "           Linear-68                   [-1, 16]           8,208\n",
      "             ReLU-69                   [-1, 16]               0\n",
      "          Dropout-70                   [-1, 16]               0\n",
      "           Linear-71                    [-1, 5]              85\n",
      "================================================================\n",
      "Total params: 11,184,805\n",
      "Trainable params: 8,293\n",
      "Non-trainable params: 11,176,512\n",
      "----------------------------------------------------------------\n",
      "Input size (MB): 0.57\n",
      "Forward/backward pass size (MB): 62.79\n",
      "Params size (MB): 42.67\n",
      "Estimated Total Size (MB): 106.03\n",
      "----------------------------------------------------------------\n"
     ]
    }
   ],
   "source": [
    "# Display the model summary\n",
    "summary(model_resnet, (3, 224, 224))"
   ]
  },
  {
   "cell_type": "code",
   "execution_count": 14,
   "metadata": {},
   "outputs": [
    {
     "name": "stdout",
     "output_type": "stream",
     "text": [
      "2.5.1+cu121\n",
      "12.1\n",
      "90100\n",
      "True\n"
     ]
    }
   ],
   "source": [
    "import torch\n",
    "print(torch.__version__)  \n",
    "print(torch.version.cuda)  # Should match CUDA 12.5\n",
    "print(torch.backends.cudnn.version())  # Should return a version, not None\n",
    "print(torch.cuda.is_available())  # Should return True"
   ]
  },
  {
   "cell_type": "markdown",
   "metadata": {},
   "source": [
    "#### Here is how we train the model"
   ]
  },
  {
   "cell_type": "code",
   "execution_count": 20,
   "metadata": {},
   "outputs": [
    {
     "data": {
      "application/vnd.jupyter.widget-view+json": {
       "model_id": "c4c1d0e667b347b7a7f2daa892f74f98",
       "version_major": 2,
       "version_minor": 0
      },
      "text/plain": [
       "Epoch 1/20:   0%|          | 0/4776 [00:00<?, ?batch/s]"
      ]
     },
     "metadata": {},
     "output_type": "display_data"
    },
    {
     "name": "stdout",
     "output_type": "stream",
     "text": [
      "Epoch [1/20], Train Loss: 0.5002, Train Accuracy: 0.7639, Test Loss: 0.4807, Test Accuracy: 0.7725\n"
     ]
    },
    {
     "data": {
      "application/vnd.jupyter.widget-view+json": {
       "model_id": "3e6d38fc4f974fd99bcea72b58accd9a",
       "version_major": 2,
       "version_minor": 0
      },
      "text/plain": [
       "Epoch 2/20:   0%|          | 0/4776 [00:00<?, ?batch/s]"
      ]
     },
     "metadata": {},
     "output_type": "display_data"
    },
    {
     "name": "stdout",
     "output_type": "stream",
     "text": [
      "Epoch [2/20], Train Loss: 0.4871, Train Accuracy: 0.7675, Test Loss: 0.4773, Test Accuracy: 0.7742\n"
     ]
    },
    {
     "data": {
      "application/vnd.jupyter.widget-view+json": {
       "model_id": "3f8f482e6d144a43b27a8fb00f277523",
       "version_major": 2,
       "version_minor": 0
      },
      "text/plain": [
       "Epoch 3/20:   0%|          | 0/4776 [00:00<?, ?batch/s]"
      ]
     },
     "metadata": {},
     "output_type": "display_data"
    },
    {
     "name": "stdout",
     "output_type": "stream",
     "text": [
      "Epoch [3/20], Train Loss: 0.4860, Train Accuracy: 0.7685, Test Loss: 0.4744, Test Accuracy: 0.7763\n"
     ]
    },
    {
     "data": {
      "application/vnd.jupyter.widget-view+json": {
       "model_id": "5aef30a9f2dd4ae4a03eec5a952aab60",
       "version_major": 2,
       "version_minor": 0
      },
      "text/plain": [
       "Epoch 4/20:   0%|          | 0/4776 [00:00<?, ?batch/s]"
      ]
     },
     "metadata": {},
     "output_type": "display_data"
    },
    {
     "name": "stdout",
     "output_type": "stream",
     "text": [
      "Epoch [4/20], Train Loss: 0.4854, Train Accuracy: 0.7683, Test Loss: 0.4745, Test Accuracy: 0.7743\n"
     ]
    },
    {
     "data": {
      "application/vnd.jupyter.widget-view+json": {
       "model_id": "21c86cff56974dc4b069d3aa58622d85",
       "version_major": 2,
       "version_minor": 0
      },
      "text/plain": [
       "Epoch 5/20:   0%|          | 0/4776 [00:00<?, ?batch/s]"
      ]
     },
     "metadata": {},
     "output_type": "display_data"
    },
    {
     "name": "stdout",
     "output_type": "stream",
     "text": [
      "Epoch [5/20], Train Loss: 0.4849, Train Accuracy: 0.7687, Test Loss: 0.4757, Test Accuracy: 0.7766\n"
     ]
    },
    {
     "data": {
      "application/vnd.jupyter.widget-view+json": {
       "model_id": "da314e39205c40f38d7179cca546b2f3",
       "version_major": 2,
       "version_minor": 0
      },
      "text/plain": [
       "Epoch 6/20:   0%|          | 0/4776 [00:00<?, ?batch/s]"
      ]
     },
     "metadata": {},
     "output_type": "display_data"
    },
    {
     "name": "stdout",
     "output_type": "stream",
     "text": [
      "Epoch [6/20], Train Loss: 0.4847, Train Accuracy: 0.7686, Test Loss: 0.4753, Test Accuracy: 0.7722\n"
     ]
    },
    {
     "data": {
      "application/vnd.jupyter.widget-view+json": {
       "model_id": "63398f58fe57418c9c1ce5ec20f2de10",
       "version_major": 2,
       "version_minor": 0
      },
      "text/plain": [
       "Epoch 7/20:   0%|          | 0/4776 [00:00<?, ?batch/s]"
      ]
     },
     "metadata": {},
     "output_type": "display_data"
    },
    {
     "name": "stdout",
     "output_type": "stream",
     "text": [
      "Epoch [7/20], Train Loss: 0.4847, Train Accuracy: 0.7685, Test Loss: 0.4737, Test Accuracy: 0.7771\n"
     ]
    },
    {
     "data": {
      "application/vnd.jupyter.widget-view+json": {
       "model_id": "c32dbf190fc74ca2ad5ad660602fb86d",
       "version_major": 2,
       "version_minor": 0
      },
      "text/plain": [
       "Epoch 8/20:   0%|          | 0/4776 [00:00<?, ?batch/s]"
      ]
     },
     "metadata": {},
     "output_type": "display_data"
    },
    {
     "name": "stdout",
     "output_type": "stream",
     "text": [
      "Epoch [8/20], Train Loss: 0.4845, Train Accuracy: 0.7682, Test Loss: 0.4733, Test Accuracy: 0.7766\n"
     ]
    },
    {
     "data": {
      "application/vnd.jupyter.widget-view+json": {
       "model_id": "29bcc15c3b564c0d92eca4d1e271bab3",
       "version_major": 2,
       "version_minor": 0
      },
      "text/plain": [
       "Epoch 9/20:   0%|          | 0/4776 [00:00<?, ?batch/s]"
      ]
     },
     "metadata": {},
     "output_type": "display_data"
    },
    {
     "name": "stdout",
     "output_type": "stream",
     "text": [
      "Epoch [9/20], Train Loss: 0.4844, Train Accuracy: 0.7684, Test Loss: 0.4748, Test Accuracy: 0.7761\n"
     ]
    },
    {
     "data": {
      "application/vnd.jupyter.widget-view+json": {
       "model_id": "22713660fabe46a3b9b7d013fafd9f71",
       "version_major": 2,
       "version_minor": 0
      },
      "text/plain": [
       "Epoch 10/20:   0%|          | 0/4776 [00:00<?, ?batch/s]"
      ]
     },
     "metadata": {},
     "output_type": "display_data"
    },
    {
     "name": "stdout",
     "output_type": "stream",
     "text": [
      "Epoch [10/20], Train Loss: 0.4843, Train Accuracy: 0.7685, Test Loss: 0.4746, Test Accuracy: 0.7738\n"
     ]
    },
    {
     "data": {
      "application/vnd.jupyter.widget-view+json": {
       "model_id": "450f5caee1104236aa926014bd35491a",
       "version_major": 2,
       "version_minor": 0
      },
      "text/plain": [
       "Epoch 11/20:   0%|          | 0/4776 [00:00<?, ?batch/s]"
      ]
     },
     "metadata": {},
     "output_type": "display_data"
    },
    {
     "name": "stdout",
     "output_type": "stream",
     "text": [
      "Epoch [11/20], Train Loss: 0.4842, Train Accuracy: 0.7682, Test Loss: 0.4733, Test Accuracy: 0.7771\n"
     ]
    },
    {
     "data": {
      "application/vnd.jupyter.widget-view+json": {
       "model_id": "04cd8998b759461dbc31a58044077305",
       "version_major": 2,
       "version_minor": 0
      },
      "text/plain": [
       "Epoch 12/20:   0%|          | 0/4776 [00:00<?, ?batch/s]"
      ]
     },
     "metadata": {},
     "output_type": "display_data"
    },
    {
     "name": "stdout",
     "output_type": "stream",
     "text": [
      "Epoch [12/20], Train Loss: 0.4841, Train Accuracy: 0.7681, Test Loss: 0.4752, Test Accuracy: 0.7747\n"
     ]
    },
    {
     "data": {
      "application/vnd.jupyter.widget-view+json": {
       "model_id": "8ce69f6c3f554977a020b936a25c0196",
       "version_major": 2,
       "version_minor": 0
      },
      "text/plain": [
       "Epoch 13/20:   0%|          | 0/4776 [00:00<?, ?batch/s]"
      ]
     },
     "metadata": {},
     "output_type": "display_data"
    },
    {
     "name": "stdout",
     "output_type": "stream",
     "text": [
      "Epoch [13/20], Train Loss: 0.4839, Train Accuracy: 0.7683, Test Loss: 0.4732, Test Accuracy: 0.7743\n"
     ]
    },
    {
     "data": {
      "application/vnd.jupyter.widget-view+json": {
       "model_id": "c4a0cc9832fc42dd9bd54a2c81123c1b",
       "version_major": 2,
       "version_minor": 0
      },
      "text/plain": [
       "Epoch 14/20:   0%|          | 0/4776 [00:00<?, ?batch/s]"
      ]
     },
     "metadata": {},
     "output_type": "display_data"
    },
    {
     "name": "stdout",
     "output_type": "stream",
     "text": [
      "Epoch [14/20], Train Loss: 0.4842, Train Accuracy: 0.7679, Test Loss: 0.4716, Test Accuracy: 0.7771\n"
     ]
    },
    {
     "data": {
      "application/vnd.jupyter.widget-view+json": {
       "model_id": "0cb16e9ba09d49389df40996f85682e3",
       "version_major": 2,
       "version_minor": 0
      },
      "text/plain": [
       "Epoch 15/20:   0%|          | 0/4776 [00:00<?, ?batch/s]"
      ]
     },
     "metadata": {},
     "output_type": "display_data"
    },
    {
     "name": "stdout",
     "output_type": "stream",
     "text": [
      "Epoch [15/20], Train Loss: 0.4839, Train Accuracy: 0.7681, Test Loss: 0.4725, Test Accuracy: 0.7765\n"
     ]
    },
    {
     "data": {
      "application/vnd.jupyter.widget-view+json": {
       "model_id": "ac3607a1927e4af0a5c88b416947537d",
       "version_major": 2,
       "version_minor": 0
      },
      "text/plain": [
       "Epoch 16/20:   0%|          | 0/4776 [00:00<?, ?batch/s]"
      ]
     },
     "metadata": {},
     "output_type": "display_data"
    },
    {
     "name": "stdout",
     "output_type": "stream",
     "text": [
      "Epoch [16/20], Train Loss: 0.4841, Train Accuracy: 0.7681, Test Loss: 0.4736, Test Accuracy: 0.7734\n"
     ]
    },
    {
     "data": {
      "application/vnd.jupyter.widget-view+json": {
       "model_id": "f4287abbb606439b852c30e58eb4a51d",
       "version_major": 2,
       "version_minor": 0
      },
      "text/plain": [
       "Epoch 17/20:   0%|          | 0/4776 [00:00<?, ?batch/s]"
      ]
     },
     "metadata": {},
     "output_type": "display_data"
    },
    {
     "name": "stdout",
     "output_type": "stream",
     "text": [
      "Epoch [17/20], Train Loss: 0.4840, Train Accuracy: 0.7682, Test Loss: 0.4727, Test Accuracy: 0.7768\n"
     ]
    },
    {
     "data": {
      "application/vnd.jupyter.widget-view+json": {
       "model_id": "c1b4c5b1b4c74e79a6c1153d43c8bb7d",
       "version_major": 2,
       "version_minor": 0
      },
      "text/plain": [
       "Epoch 18/20:   0%|          | 0/4776 [00:00<?, ?batch/s]"
      ]
     },
     "metadata": {},
     "output_type": "display_data"
    },
    {
     "name": "stdout",
     "output_type": "stream",
     "text": [
      "Epoch [18/20], Train Loss: 0.4836, Train Accuracy: 0.7682, Test Loss: 0.4736, Test Accuracy: 0.7758\n"
     ]
    },
    {
     "data": {
      "application/vnd.jupyter.widget-view+json": {
       "model_id": "da4579fc909442a1bc60e4908e8f559d",
       "version_major": 2,
       "version_minor": 0
      },
      "text/plain": [
       "Epoch 19/20:   0%|          | 0/4776 [00:00<?, ?batch/s]"
      ]
     },
     "metadata": {},
     "output_type": "display_data"
    },
    {
     "name": "stdout",
     "output_type": "stream",
     "text": [
      "Epoch [19/20], Train Loss: 0.4837, Train Accuracy: 0.7678, Test Loss: 0.4766, Test Accuracy: 0.7699\n"
     ]
    },
    {
     "data": {
      "application/vnd.jupyter.widget-view+json": {
       "model_id": "b69f625b20d94d699d51cf464323635c",
       "version_major": 2,
       "version_minor": 0
      },
      "text/plain": [
       "Epoch 20/20:   0%|          | 0/4776 [00:00<?, ?batch/s]"
      ]
     },
     "metadata": {},
     "output_type": "display_data"
    },
    {
     "name": "stdout",
     "output_type": "stream",
     "text": [
      "Epoch [20/20], Train Loss: 0.4836, Train Accuracy: 0.7680, Test Loss: 0.4735, Test Accuracy: 0.7763\n"
     ]
    }
   ],
   "source": [
    "# Define the loss function\n",
    "# BCEWithLogitsLoss combines a Sigmoid layer and the BCELoss in one single class\n",
    "criterion = nn.BCEWithLogitsLoss()\n",
    "\n",
    "# Define the optimizer\n",
    "# Adam optimizer with learning rate of 0.001\n",
    "optimizer_resnet = optim.Adam(model_resnet.parameters(), lr=0.001)\n",
    "\n",
    "# Check if GPU is available and use it if possible, otherwise use CPU\n",
    "device = torch.device(\"cuda\" if torch.cuda.is_available() else \"cpu\")\n",
    "\n",
    "# Train the model\n",
    "# Parameters:\n",
    "# - model: The model to be trained (ResNet-18 in this case)\n",
    "# - train_loader: DataLoader for the training dataset\n",
    "# - test_loader: DataLoader for the validation dataset\n",
    "# - criterion: The loss function\n",
    "# - optimizer: The optimizer\n",
    "# - num_epochs: Number of epochs to train the model\n",
    "# - device: Device to train the model on ('cpu' or 'cuda')\n",
    "# - save_filename: Filename to save the trained model\n",
    "train_losses_resnet, train_accuracies_resnet, test_losses_resnet, test_accuracies_resnet = train_model(\n",
    "    model=model_resnet,\n",
    "    train_loader=train_loader,\n",
    "    test_loader=valid_loader,\n",
    "    criterion=criterion,\n",
    "    optimizer=optimizer_resnet,\n",
    "    num_epochs=20,\n",
    "    device=device,\n",
    "    save_filename='model_resnet.pth'\n",
    ")"
   ]
  },
  {
   "cell_type": "markdown",
   "metadata": {},
   "source": [
    "### Pickle the trained model"
   ]
  },
  {
   "cell_type": "code",
   "execution_count": 56,
   "metadata": {},
   "outputs": [],
   "source": [
    "with open('model_resnet.pkl', 'rb') as f:\n",
    "    loaded_model_resnet = pickle.load(f)\n",
    "\n",
    "print(\"Model loaded from model_resnet.pkl\")"
   ]
  },
  {
   "cell_type": "markdown",
   "metadata": {},
   "source": [
    "### Load the trained model"
   ]
  },
  {
   "cell_type": "code",
   "execution_count": 17,
   "metadata": {},
   "outputs": [
    {
     "name": "stdout",
     "output_type": "stream",
     "text": [
      "Model loaded from model_resnet.pkl\n"
     ]
    }
   ],
   "source": [
    "import pickle\n",
    "\n",
    "try:\n",
    "    with open('model_resnet.pkl', 'rb') as f:\n",
    "        loaded_model_resnet = pickle.load(f)\n",
    "    print(\"Model loaded from model_resnet.pkl\")\n",
    "except EOFError:\n",
    "    print(\"Error: The file is empty or corrupted.\")\n",
    "except FileNotFoundError:\n",
    "    print(\"Error: The file was not found.\")\n",
    "except Exception as e:\n",
    "    print(f\"An unexpected error occurred: {e}\")"
   ]
  },
  {
   "cell_type": "code",
   "execution_count": 18,
   "metadata": {},
   "outputs": [
    {
     "name": "stdout",
     "output_type": "stream",
     "text": [
      "Existing classes in test_df: ['Atelectasis', 'Cardiomegaly', 'Consolidation', 'Edema', 'Pleural Effusion']\n",
      "Test Labels (Filtered):\n",
      "[[1. 0. 0. 0. 0.]\n",
      " [0. 0. 0. 0. 0.]\n",
      " [0. 1. 0. 1. 0.]\n",
      " ...\n",
      " [0. 1. 0. 1. 0.]\n",
      " [0. 0. 0. 0. 0.]\n",
      " [0. 0. 0. 0. 1.]]\n",
      "Test Predictions (Filtered):\n",
      "[[0 0 0 0 0]\n",
      " [0 0 0 0 1]\n",
      " [0 0 0 0 1]\n",
      " ...\n",
      " [0 0 0 0 1]\n",
      " [0 0 0 0 0]\n",
      " [0 0 0 0 0]]\n",
      "Confusion Matrix for Atelectasis:\n",
      "[[127   0]\n",
      " [ 75   0]]\n",
      "Confusion Matrix for Cardiomegaly:\n",
      "[[136   0]\n",
      " [ 66   0]]\n",
      "Confusion Matrix for Consolidation:\n",
      "[[170   0]\n",
      " [ 32   0]]\n",
      "Confusion Matrix for Edema:\n",
      "[[160   0]\n",
      " [ 42   0]]\n",
      "Confusion Matrix for Pleural Effusion:\n",
      "[[118  20]\n",
      " [ 39  25]]\n"
     ]
    },
    {
     "data": {
      "image/png": "[encoded data removed]",
      "text/plain": [
       "<Figure size 500x400 with 2 Axes>"
      ]
     },
     "metadata": {},
     "output_type": "display_data"
    },
    {
     "data": {
      "image/png": "[encoded data removed]",
      "text/plain": [
       "<Figure size 500x400 with 2 Axes>"
      ]
     },
     "metadata": {},
     "output_type": "display_data"
    },
    {
     "data": {
      "image/png": "[encoded data removed]",
      "text/plain": [
       "<Figure size 500x400 with 2 Axes>"
      ]
     },
     "metadata": {},
     "output_type": "display_data"
    },
    {
     "data": {
      "image/png": "[encoded data removed]",
      "text/plain": [
       "<Figure size 500x400 with 2 Axes>"
      ]
     },
     "metadata": {},
     "output_type": "display_data"
    },
    {
     "data": {
      "image/png": "[encoded data removed]",
      "text/plain": [
       "<Figure size 500x400 with 2 Axes>"
      ]
     },
     "metadata": {},
     "output_type": "display_data"
    },
    {
     "name": "stdout",
     "output_type": "stream",
     "text": [
      "Accuracy: 0.3564\n",
      "F1 Scores:\n",
      "              Class  F1 Score\n",
      "0       Atelectasis  0.000000\n",
      "1      Cardiomegaly  0.000000\n",
      "2     Consolidation  0.000000\n",
      "3             Edema  0.000000\n",
      "4  Pleural Effusion  0.458716\n",
      "Precision Scores:\n",
      "              Class  Precision\n",
      "0       Atelectasis   0.000000\n",
      "1      Cardiomegaly   0.000000\n",
      "2     Consolidation   0.000000\n",
      "3             Edema   0.000000\n",
      "4  Pleural Effusion   0.555556\n",
      "Recall Scores:\n",
      "              Class    Recall\n",
      "0       Atelectasis  0.000000\n",
      "1      Cardiomegaly  0.000000\n",
      "2     Consolidation  0.000000\n",
      "3             Edema  0.000000\n",
      "4  Pleural Effusion  0.390625\n"
     ]
    }
   ],
   "source": [
    "from sklearn.metrics import f1_score, precision_score, recall_score, accuracy_score, confusion_matrix, classification_report\n",
    "import seaborn as sns\n",
    "import matplotlib.pyplot as plt\n",
    "import numpy as np\n",
    "import pandas as pd\n",
    "import torch\n",
    "from torch.utils.data import DataLoader\n",
    "\n",
    "# Function to evaluate the model on the test dataset\n",
    "def evaluate_model(model, test_loader, device):\n",
    "    model.eval()  # Set the model to evaluation mode\n",
    "    all_preds = []\n",
    "    all_labels = []\n",
    "    with torch.no_grad():\n",
    "        for images, labels in test_loader:\n",
    "            images, labels = images.to(device), labels.to(device)\n",
    "            outputs = model(images)\n",
    "            preds = torch.sigmoid(outputs).cpu().numpy()\n",
    "            all_preds.extend(preds)\n",
    "            all_labels.extend(labels.cpu().numpy())\n",
    "    return np.array(all_preds), np.array(all_labels)\n",
    "\n",
    "# Create the test dataset with the defined transformations\n",
    "test_dataset = CheXpertDataset(test_df, class_names, transform=transform)\n",
    "\n",
    "# Create DataLoader for the test dataset\n",
    "test_loader = DataLoader(test_dataset, batch_size=16, shuffle=False)\n",
    "\n",
    "# Evaluate the model on the test dataset\n",
    "test_preds, test_labels = evaluate_model(loaded_model_resnet, test_loader, device)\n",
    "\n",
    "# Binarize the predictions\n",
    "test_preds_binary = (test_preds > 0.5).astype(int)\n",
    "\n",
    "# Check which classes exist in test_df\n",
    "existing_classes_indices = [i for i in range(len(class_names)) if test_labels[:, i].sum() > 0]\n",
    "existing_classes = [class_names[i] for i in existing_classes_indices]\n",
    "print(\"Existing classes in test_df:\", existing_classes)\n",
    "\n",
    "# Filter the predictions and labels to only include existing classes\n",
    "test_preds_binary_filtered = test_preds_binary[:, existing_classes_indices]\n",
    "test_labels_filtered = test_labels[:, existing_classes_indices]\n",
    "\n",
    "# Debugging information\n",
    "print(\"Test Labels (Filtered):\")\n",
    "print(test_labels_filtered)\n",
    "print(\"Test Predictions (Filtered):\")\n",
    "print(test_preds_binary_filtered)\n",
    "\n",
    "# Calculate F1 scores\n",
    "f1_scores = f1_score(test_labels_filtered, test_preds_binary_filtered, average=None, zero_division=0)\n",
    "f1_scores_df = pd.DataFrame({'Class': existing_classes, 'F1 Score': f1_scores})\n",
    "\n",
    "# Calculate precision scores\n",
    "precision_scores = precision_score(test_labels_filtered, test_preds_binary_filtered, average=None, zero_division=0)\n",
    "precision_scores_df = pd.DataFrame({'Class': existing_classes, 'Precision': precision_scores})\n",
    "\n",
    "# Calculate recall scores\n",
    "recall_scores = recall_score(test_labels_filtered, test_preds_binary_filtered, average=None, zero_division=0)\n",
    "recall_scores_df = pd.DataFrame({'Class': existing_classes, 'Recall': recall_scores})\n",
    "\n",
    "# Calculate accuracy\n",
    "accuracy = accuracy_score(test_labels_filtered, test_preds_binary_filtered)\n",
    "\n",
    "# Calculate confusion matrix for each class\n",
    "conf_matrices = []\n",
    "for i, class_name in enumerate(existing_classes):\n",
    "    conf_matrix = confusion_matrix(test_labels_filtered[:, i], test_preds_binary_filtered[:, i])\n",
    "    conf_matrices.append(conf_matrix)\n",
    "    print(f\"Confusion Matrix for {class_name}:\\n{conf_matrix}\")\n",
    "\n",
    "# Classification report\n",
    "class_report = classification_report(test_labels_filtered, test_preds_binary_filtered, target_names=existing_classes, output_dict=True, zero_division=0)\n",
    "class_report_df = pd.DataFrame(class_report).transpose()\n",
    "\n",
    "# Save F1 scores to CSV\n",
    "f1_scores_df.to_csv('f1_scores.csv', index=False)\n",
    "\n",
    "# Save precision scores to CSV\n",
    "precision_scores_df.to_csv('precision_scores.csv', index=False)\n",
    "\n",
    "# Save recall scores to CSV\n",
    "recall_scores_df.to_csv('recall_scores.csv', index=False)\n",
    "\n",
    "# Save classification report to CSV\n",
    "class_report_df.to_csv('classification_report.csv')\n",
    "\n",
    "# Plot confusion matrix for each class\n",
    "for i, class_name in enumerate(existing_classes):\n",
    "    plt.figure(figsize=(5, 4))\n",
    "    sns.heatmap(conf_matrices[i], annot=True, fmt='d', cmap='Blues')\n",
    "    plt.title(f'Confusion Matrix for {class_name}')\n",
    "    plt.xlabel('Predicted')\n",
    "    plt.ylabel('True')\n",
    "    plt.show()\n",
    "\n",
    "# Print additional evaluation metrics\n",
    "print(f\"Accuracy: {accuracy:.4f}\")\n",
    "print(f\"F1 Scores:\\n{f1_scores_df}\")\n",
    "print(f\"Precision Scores:\\n{precision_scores_df}\")\n",
    "print(f\"Recall Scores:\\n{recall_scores_df}\")"
   ]
  },
  {
   "cell_type": "code",
   "execution_count": null,
   "metadata": {},
   "outputs": [],
   "source": []
  }
 ],
 "metadata": {
  "kernelspec": {
   "display_name": "ExplainableAI",
   "language": "python",
   "name": "python3"
  },
  "language_info": {
   "codemirror_mode": {
    "name": "ipython",
    "version": 3
   },
   "file_extension": ".py",
   "mimetype": "text/x-python",
   "name": "python",
   "nbconvert_exporter": "python",
   "pygments_lexer": "ipython3",
   "version": "3.12.8"
  }
 },
 "nbformat": 4,
 "nbformat_minor": 2
}
